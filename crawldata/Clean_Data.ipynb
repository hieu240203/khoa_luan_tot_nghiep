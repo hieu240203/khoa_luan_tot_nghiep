{
 "cells": [
  {
   "cell_type": "markdown",
   "metadata": {},
   "source": [
    "# Import thư viện, các hàm cần thiết"
   ]
  },
  {
   "cell_type": "code",
   "execution_count": 1,
   "metadata": {},
   "outputs": [],
   "source": [
    "from My_function_foody import *\n",
    "from collections import defaultdict\n",
    "import numpy as np\n",
    "import matplotlib.pyplot as plt\n",
    "import seaborn as sns"
   ]
  },
  {
   "cell_type": "markdown",
   "metadata": {},
   "source": [
    "# Đọc dữ liệu quán ăn"
   ]
  },
  {
   "cell_type": "code",
   "execution_count": 2,
   "metadata": {},
   "outputs": [],
   "source": [
    "file_path = \"Data_tho.txt\"\n",
    "list_restaurant_data = read_dict_txt(file_path)\n",
    "\n",
    "restaurant_overview = []\n",
    "menu_items = []\n",
    "\n",
    "for restaurant in list_restaurant_data:\n",
    "    # Extract the overview details\n",
    "    restaurant_overview.append({\n",
    "        \"Link\": restaurant.get(\"Link\"),\n",
    "        \"Image\": restaurant.get(\"Image\"),\n",
    "        \"Tên nhà hàng\": restaurant.get(\"name\"),\n",
    "        \"Loại hình\": \", \".join(restaurant.get(\"categories\", [])),\n",
    "        \"Phong cách món ăn\": restaurant.get(\"cuisine\"),\n",
    "        \"Đối tượng phù hợp\": \", \".join(restaurant.get(\"audiences\", [])),\n",
    "        \"Đánh giá trung bình\": restaurant.get(\"ratings\", {}).get(\"average_rating\", None),\n",
    "        \"Tổng số bình luận\": restaurant.get(\"comments\", {}).get(\"total_comments\", 0),\n",
    "        \"Bình luận tuyệt vời\": restaurant.get(\"comments\", {}).get(\"comment_ratings\", {}).get(\"Tuyệt vời\", 0),\n",
    "        \"Bình luận khá tốt\": restaurant.get(\"comments\", {}).get(\"comment_ratings\", {}).get(\"Khá tốt\", 0),\n",
    "        \"Bình luận trung bình\": restaurant.get(\"comments\", {}).get(\"comment_ratings\", {}).get(\"Trung bình\", 0),\n",
    "        \"Bình luận kém\": restaurant.get(\"comments\", {}).get(\"comment_ratings\", {}).get(\"Kém\", 0),\n",
    "        \"Điểm không gian\": restaurant.get(\"ratings\", {}).get(\"detailed_points\", {}).get(\"Không gian\", None),\n",
    "        \"Điểm vị trí\": restaurant.get(\"ratings\", {}).get(\"detailed_points\", {}).get(\"Vị trí\", None),\n",
    "        \"Điểm chất lượng\": restaurant.get(\"ratings\", {}).get(\"detailed_points\", {}).get(\"Chất lượng\", None),\n",
    "        \"Điểm phục vụ\": restaurant.get(\"ratings\", {}).get(\"detailed_points\", {}).get(\"Phục vụ\", None),\n",
    "        \"Điểm giá cả\": restaurant.get(\"ratings\", {}).get(\"detailed_points\", {}).get(\"Giá cả\", None),\n",
    "        \"Đường\": restaurant.get(\"address\", {}).get(\"street\", None),\n",
    "        \"Quận\": restaurant.get(\"address\", {}).get(\"locality\", None),\n",
    "        \"Thành phố\": restaurant.get(\"address\", {}).get(\"region\", None),\n",
    "        \"Giờ mở cửa\": restaurant.get(\"opening_hours\", None),\n",
    "        \"Khoảng giá\": restaurant.get(\"price_range\", None)\n",
    "    })\n",
    "    \n",
    "    for menu_item in restaurant.get(\"menu\", []):\n",
    "        menu_items.append({\n",
    "            \"Tên nhà hàng\": restaurant.get(\"name\"),\n",
    "            \"Tên món\": menu_item.get(\"name\"),\n",
    "            \"Giá\": menu_item.get(\"price\"),\n",
    "            \"Hình ảnh món ăn\": menu_item.get(\"image_url\")\n",
    "        })\n",
    "\n",
    "df_restaurant = pd.DataFrame(restaurant_overview)\n",
    "df_menu = pd.DataFrame(menu_items)\n",
    "\n"
   ]
  },
  {
   "cell_type": "markdown",
   "metadata": {},
   "source": [
    "- Dữ liệu được thu thập xong được tách thành 2 file là dữ liệu về menu của quán ăn đó và dữ liệu về thông tin quán ăn đó. "
   ]
  },
  {
   "cell_type": "code",
   "execution_count": 3,
   "metadata": {},
   "outputs": [
    {
     "data": {
      "text/html": [
       "<div>\n",
       "<style scoped>\n",
       "    .dataframe tbody tr th:only-of-type {\n",
       "        vertical-align: middle;\n",
       "    }\n",
       "\n",
       "    .dataframe tbody tr th {\n",
       "        vertical-align: top;\n",
       "    }\n",
       "\n",
       "    .dataframe thead th {\n",
       "        text-align: right;\n",
       "    }\n",
       "</style>\n",
       "<table border=\"1\" class=\"dataframe\">\n",
       "  <thead>\n",
       "    <tr style=\"text-align: right;\">\n",
       "      <th></th>\n",
       "      <th>Link</th>\n",
       "      <th>Image</th>\n",
       "      <th>Tên nhà hàng</th>\n",
       "      <th>Loại hình</th>\n",
       "      <th>Phong cách món ăn</th>\n",
       "      <th>Đối tượng phù hợp</th>\n",
       "      <th>Đánh giá trung bình</th>\n",
       "      <th>Tổng số bình luận</th>\n",
       "      <th>Bình luận tuyệt vời</th>\n",
       "      <th>Bình luận khá tốt</th>\n",
       "      <th>...</th>\n",
       "      <th>Điểm không gian</th>\n",
       "      <th>Điểm vị trí</th>\n",
       "      <th>Điểm chất lượng</th>\n",
       "      <th>Điểm phục vụ</th>\n",
       "      <th>Điểm giá cả</th>\n",
       "      <th>Đường</th>\n",
       "      <th>Quận</th>\n",
       "      <th>Thành phố</th>\n",
       "      <th>Giờ mở cửa</th>\n",
       "      <th>Khoảng giá</th>\n",
       "    </tr>\n",
       "  </thead>\n",
       "  <tbody>\n",
       "    <tr>\n",
       "      <th>0</th>\n",
       "      <td>https://www.foody.vn/ha-noi/jacksons-steakhouse</td>\n",
       "      <td>https://down-vn.img.susercontent.com/vn-111342...</td>\n",
       "      <td>Jacksons Steakhouse Hanoi</td>\n",
       "      <td>Sang trọng,, Nhà hàng</td>\n",
       "      <td>Mỹ</td>\n",
       "      <td>Cặp đôi, Giới văn phòng, Giới Manager</td>\n",
       "      <td>6.7</td>\n",
       "      <td>533</td>\n",
       "      <td>150</td>\n",
       "      <td>53</td>\n",
       "      <td>...</td>\n",
       "      <td>6.8</td>\n",
       "      <td>6.7</td>\n",
       "      <td>6.8</td>\n",
       "      <td>6.8</td>\n",
       "      <td>6.6</td>\n",
       "      <td>23J Hai Bà Trưng, P. Hàng Bài</td>\n",
       "      <td>Quận Hoàn Kiếm</td>\n",
       "      <td>Hà Nội</td>\n",
       "      <td>09:30 - 23:30</td>\n",
       "      <td>300.000đ - 1.100.000đ</td>\n",
       "    </tr>\n",
       "    <tr>\n",
       "      <th>1</th>\n",
       "      <td>https://www.foody.vn/ha-noi/salmonoid-cao-ba-quat</td>\n",
       "      <td>https://down-vn.img.susercontent.com/vn-111342...</td>\n",
       "      <td>Salmonoid - Món Âu - Cao Bá Quát</td>\n",
       "      <td>Sang trọng,, Nhà hàng</td>\n",
       "      <td>Pháp</td>\n",
       "      <td>Cặp đôi, Gia đình, Giới Manager</td>\n",
       "      <td>7.5</td>\n",
       "      <td>271</td>\n",
       "      <td>47</td>\n",
       "      <td>159</td>\n",
       "      <td>...</td>\n",
       "      <td>7.7</td>\n",
       "      <td>7.6</td>\n",
       "      <td>7.8</td>\n",
       "      <td>7.7</td>\n",
       "      <td>7.1</td>\n",
       "      <td>32C Cao Bá Quát</td>\n",
       "      <td>Quận Ba Đình</td>\n",
       "      <td>Hà Nội</td>\n",
       "      <td>10:00 - 22:30</td>\n",
       "      <td>200.000đ - 650.000đ</td>\n",
       "    </tr>\n",
       "    <tr>\n",
       "      <th>2</th>\n",
       "      <td>https://www.foody.vn/ha-noi/essence-cafe</td>\n",
       "      <td>https://down-vn.img.susercontent.com/vn-111342...</td>\n",
       "      <td>Essence Cafe &amp; Restaurant</td>\n",
       "      <td>Sang trọng,, Nhà hàng,, Café/Dessert</td>\n",
       "      <td>Món Việt</td>\n",
       "      <td>Cặp đôi, Gia đình, Nhóm hội, Khách du lịch</td>\n",
       "      <td>6.5</td>\n",
       "      <td>192</td>\n",
       "      <td>50</td>\n",
       "      <td>10</td>\n",
       "      <td>...</td>\n",
       "      <td>6.5</td>\n",
       "      <td>6.6</td>\n",
       "      <td>6.5</td>\n",
       "      <td>6.5</td>\n",
       "      <td>6.5</td>\n",
       "      <td>22 Tạ Hiện</td>\n",
       "      <td>Quận Hoàn Kiếm</td>\n",
       "      <td>Hà Nội</td>\n",
       "      <td></td>\n",
       "      <td>60.000đ - 132.000đ</td>\n",
       "    </tr>\n",
       "    <tr>\n",
       "      <th>3</th>\n",
       "      <td>https://www.foody.vn/ha-noi/tim-ho-wan-dim-sum...</td>\n",
       "      <td>https://down-vn.img.susercontent.com/vn-111342...</td>\n",
       "      <td>Tim Ho Wan - Dimsum Hồng Kông - Lotte Hotel Hanoi</td>\n",
       "      <td>Sang trọng,, Nhà hàng</td>\n",
       "      <td>Món Trung Hoa</td>\n",
       "      <td>Cặp đôi, Gia đình, Nhóm hội, Giới văn phòng, K...</td>\n",
       "      <td>7.9</td>\n",
       "      <td>131</td>\n",
       "      <td>26</td>\n",
       "      <td>89</td>\n",
       "      <td>...</td>\n",
       "      <td>8.5</td>\n",
       "      <td>8.6</td>\n",
       "      <td>7.7</td>\n",
       "      <td>7.9</td>\n",
       "      <td>6.9</td>\n",
       "      <td>Tầng 36, Lotte Center, 54 Liễu Giai</td>\n",
       "      <td>Quận Ba Đình</td>\n",
       "      <td>Hà Nội</td>\n",
       "      <td>11:30 - 22:00</td>\n",
       "      <td>100.000đ - 1.000.000đ</td>\n",
       "    </tr>\n",
       "    <tr>\n",
       "      <th>4</th>\n",
       "      <td>https://www.foody.vn/ha-noi/tunglok-heen-am-th...</td>\n",
       "      <td>https://down-vn.img.susercontent.com/vn-111342...</td>\n",
       "      <td>Tunglok Heen - Ẩm Thực Trung Hoa - Almaz Vinho...</td>\n",
       "      <td>Sang trọng,, Nhà hàng</td>\n",
       "      <td>Món Trung Hoa</td>\n",
       "      <td>Nhóm hội, Giới văn phòng, Khách du lịch</td>\n",
       "      <td>7.6</td>\n",
       "      <td>56</td>\n",
       "      <td>18</td>\n",
       "      <td>20</td>\n",
       "      <td>...</td>\n",
       "      <td>8.1</td>\n",
       "      <td>7.2</td>\n",
       "      <td>7.9</td>\n",
       "      <td>7.9</td>\n",
       "      <td>6.8</td>\n",
       "      <td>Almaz, Vinhomes Riverside</td>\n",
       "      <td>Quận Long Biên</td>\n",
       "      <td>Hà Nội</td>\n",
       "      <td>10:00 - 15:00 | 18:00 - 22:00</td>\n",
       "      <td>250.000đ - 5.000.000đ</td>\n",
       "    </tr>\n",
       "  </tbody>\n",
       "</table>\n",
       "<p>5 rows × 22 columns</p>\n",
       "</div>"
      ],
      "text/plain": [
       "                                                Link  \\\n",
       "0    https://www.foody.vn/ha-noi/jacksons-steakhouse   \n",
       "1  https://www.foody.vn/ha-noi/salmonoid-cao-ba-quat   \n",
       "2           https://www.foody.vn/ha-noi/essence-cafe   \n",
       "3  https://www.foody.vn/ha-noi/tim-ho-wan-dim-sum...   \n",
       "4  https://www.foody.vn/ha-noi/tunglok-heen-am-th...   \n",
       "\n",
       "                                               Image  \\\n",
       "0  https://down-vn.img.susercontent.com/vn-111342...   \n",
       "1  https://down-vn.img.susercontent.com/vn-111342...   \n",
       "2  https://down-vn.img.susercontent.com/vn-111342...   \n",
       "3  https://down-vn.img.susercontent.com/vn-111342...   \n",
       "4  https://down-vn.img.susercontent.com/vn-111342...   \n",
       "\n",
       "                                        Tên nhà hàng  \\\n",
       "0                          Jacksons Steakhouse Hanoi   \n",
       "1                   Salmonoid - Món Âu - Cao Bá Quát   \n",
       "2                          Essence Cafe & Restaurant   \n",
       "3  Tim Ho Wan - Dimsum Hồng Kông - Lotte Hotel Hanoi   \n",
       "4  Tunglok Heen - Ẩm Thực Trung Hoa - Almaz Vinho...   \n",
       "\n",
       "                              Loại hình Phong cách món ăn  \\\n",
       "0                 Sang trọng,, Nhà hàng                Mỹ   \n",
       "1                 Sang trọng,, Nhà hàng              Pháp   \n",
       "2  Sang trọng,, Nhà hàng,, Café/Dessert          Món Việt   \n",
       "3                 Sang trọng,, Nhà hàng     Món Trung Hoa   \n",
       "4                 Sang trọng,, Nhà hàng     Món Trung Hoa   \n",
       "\n",
       "                                   Đối tượng phù hợp  Đánh giá trung bình  \\\n",
       "0              Cặp đôi, Giới văn phòng, Giới Manager                  6.7   \n",
       "1                    Cặp đôi, Gia đình, Giới Manager                  7.5   \n",
       "2         Cặp đôi, Gia đình, Nhóm hội, Khách du lịch                  6.5   \n",
       "3  Cặp đôi, Gia đình, Nhóm hội, Giới văn phòng, K...                  7.9   \n",
       "4            Nhóm hội, Giới văn phòng, Khách du lịch                  7.6   \n",
       "\n",
       "   Tổng số bình luận  Bình luận tuyệt vời  Bình luận khá tốt  ...  \\\n",
       "0                533                  150                 53  ...   \n",
       "1                271                   47                159  ...   \n",
       "2                192                   50                 10  ...   \n",
       "3                131                   26                 89  ...   \n",
       "4                 56                   18                 20  ...   \n",
       "\n",
       "   Điểm không gian  Điểm vị trí  Điểm chất lượng  Điểm phục vụ  Điểm giá cả  \\\n",
       "0              6.8          6.7              6.8           6.8          6.6   \n",
       "1              7.7          7.6              7.8           7.7          7.1   \n",
       "2              6.5          6.6              6.5           6.5          6.5   \n",
       "3              8.5          8.6              7.7           7.9          6.9   \n",
       "4              8.1          7.2              7.9           7.9          6.8   \n",
       "\n",
       "                                 Đường            Quận Thành phố  \\\n",
       "0        23J Hai Bà Trưng, P. Hàng Bài  Quận Hoàn Kiếm    Hà Nội   \n",
       "1                      32C Cao Bá Quát    Quận Ba Đình    Hà Nội   \n",
       "2                           22 Tạ Hiện  Quận Hoàn Kiếm    Hà Nội   \n",
       "3  Tầng 36, Lotte Center, 54 Liễu Giai    Quận Ba Đình    Hà Nội   \n",
       "4            Almaz, Vinhomes Riverside  Quận Long Biên    Hà Nội   \n",
       "\n",
       "                      Giờ mở cửa             Khoảng giá  \n",
       "0                  09:30 - 23:30  300.000đ - 1.100.000đ  \n",
       "1                  10:00 - 22:30    200.000đ - 650.000đ  \n",
       "2                                    60.000đ - 132.000đ  \n",
       "3                  11:30 - 22:00  100.000đ - 1.000.000đ  \n",
       "4  10:00 - 15:00 | 18:00 - 22:00  250.000đ - 5.000.000đ  \n",
       "\n",
       "[5 rows x 22 columns]"
      ]
     },
     "execution_count": 3,
     "metadata": {},
     "output_type": "execute_result"
    }
   ],
   "source": [
    "df_restaurant.head(5)"
   ]
  },
  {
   "cell_type": "code",
   "execution_count": null,
   "metadata": {},
   "outputs": [],
   "source": []
  },
  {
   "cell_type": "code",
   "execution_count": 4,
   "metadata": {},
   "outputs": [
    {
     "name": "stdout",
     "output_type": "stream",
     "text": [
      "Dữ liệu có tổng cộng 2,977 nhà hàng, với 22 trường thông tin được thu thập.\n"
     ]
    }
   ],
   "source": [
    "rows, cols = df_restaurant.shape\n",
    "print(f\"Dữ liệu có tổng cộng {rows:,} nhà hàng, với {cols} trường thông tin được thu thập.\")"
   ]
  },
  {
   "cell_type": "code",
   "execution_count": 5,
   "metadata": {},
   "outputs": [
    {
     "data": {
      "text/html": [
       "<div>\n",
       "<style scoped>\n",
       "    .dataframe tbody tr th:only-of-type {\n",
       "        vertical-align: middle;\n",
       "    }\n",
       "\n",
       "    .dataframe tbody tr th {\n",
       "        vertical-align: top;\n",
       "    }\n",
       "\n",
       "    .dataframe thead th {\n",
       "        text-align: right;\n",
       "    }\n",
       "</style>\n",
       "<table border=\"1\" class=\"dataframe\">\n",
       "  <thead>\n",
       "    <tr style=\"text-align: right;\">\n",
       "      <th></th>\n",
       "      <th>Tên nhà hàng</th>\n",
       "      <th>Tên món</th>\n",
       "      <th>Giá</th>\n",
       "      <th>Hình ảnh món ăn</th>\n",
       "    </tr>\n",
       "  </thead>\n",
       "  <tbody>\n",
       "    <tr>\n",
       "      <th>0</th>\n",
       "      <td>Top Floor Rue Des Seaux Restaurant - Hàng Thùng</td>\n",
       "      <td>Sườn Nướng Tảng Sốt Mật Ong Vừng (1kg)</td>\n",
       "      <td>350.000đ</td>\n",
       "      <td>https://mms.img.susercontent.com/vn-11134517-7...</td>\n",
       "    </tr>\n",
       "    <tr>\n",
       "      <th>1</th>\n",
       "      <td>Top Floor Rue Des Seaux Restaurant - Hàng Thùng</td>\n",
       "      <td>Salad Caeser Với Gà Nướng</td>\n",
       "      <td>100.000đ</td>\n",
       "      <td>https://mms.img.susercontent.com/vn-11134517-7...</td>\n",
       "    </tr>\n",
       "    <tr>\n",
       "      <th>2</th>\n",
       "      <td>Top Floor Rue Des Seaux Restaurant - Hàng Thùng</td>\n",
       "      <td>Cơm Rang Dứa</td>\n",
       "      <td>115.000đ</td>\n",
       "      <td>https://mms.img.susercontent.com/vn-11134517-7...</td>\n",
       "    </tr>\n",
       "    <tr>\n",
       "      <th>3</th>\n",
       "      <td>Top Floor Rue Des Seaux Restaurant - Hàng Thùng</td>\n",
       "      <td>Mỳ Ý Sốt Bolognese</td>\n",
       "      <td>115.000đ</td>\n",
       "      <td>https://mms.img.susercontent.com/vn-11134517-7...</td>\n",
       "    </tr>\n",
       "    <tr>\n",
       "      <th>4</th>\n",
       "      <td>Top Floor Rue Des Seaux Restaurant - Hàng Thùng</td>\n",
       "      <td>Cơm Sườn Nướng Sốt Mật Ong Vừng</td>\n",
       "      <td>150.000đ</td>\n",
       "      <td>https://mms.img.susercontent.com/vn-11134517-7...</td>\n",
       "    </tr>\n",
       "  </tbody>\n",
       "</table>\n",
       "</div>"
      ],
      "text/plain": [
       "                                      Tên nhà hàng  \\\n",
       "0  Top Floor Rue Des Seaux Restaurant - Hàng Thùng   \n",
       "1  Top Floor Rue Des Seaux Restaurant - Hàng Thùng   \n",
       "2  Top Floor Rue Des Seaux Restaurant - Hàng Thùng   \n",
       "3  Top Floor Rue Des Seaux Restaurant - Hàng Thùng   \n",
       "4  Top Floor Rue Des Seaux Restaurant - Hàng Thùng   \n",
       "\n",
       "                                  Tên món       Giá  \\\n",
       "0  Sườn Nướng Tảng Sốt Mật Ong Vừng (1kg)  350.000đ   \n",
       "1               Salad Caeser Với Gà Nướng  100.000đ   \n",
       "2                            Cơm Rang Dứa  115.000đ   \n",
       "3                      Mỳ Ý Sốt Bolognese  115.000đ   \n",
       "4         Cơm Sườn Nướng Sốt Mật Ong Vừng  150.000đ   \n",
       "\n",
       "                                     Hình ảnh món ăn  \n",
       "0  https://mms.img.susercontent.com/vn-11134517-7...  \n",
       "1  https://mms.img.susercontent.com/vn-11134517-7...  \n",
       "2  https://mms.img.susercontent.com/vn-11134517-7...  \n",
       "3  https://mms.img.susercontent.com/vn-11134517-7...  \n",
       "4  https://mms.img.susercontent.com/vn-11134517-7...  "
      ]
     },
     "execution_count": 5,
     "metadata": {},
     "output_type": "execute_result"
    }
   ],
   "source": [
    "df_menu.head()"
   ]
  },
  {
   "cell_type": "code",
   "execution_count": 6,
   "metadata": {},
   "outputs": [
    {
     "name": "stdout",
     "output_type": "stream",
     "text": [
      "Dữ liệu bảng menu có tổng cộng 16,103 , với 4 trường thông tin được thu thập.\n"
     ]
    }
   ],
   "source": [
    "rows, cols = df_menu.shape\n",
    "print(f\"Dữ liệu bảng menu có tổng cộng {rows:,} , với {cols} trường thông tin được thu thập.\")\n"
   ]
  },
  {
   "cell_type": "code",
   "execution_count": 7,
   "metadata": {},
   "outputs": [],
   "source": [
    "df_menu.to_csv(\"menu.csv\", index=False)\n"
   ]
  },
  {
   "cell_type": "markdown",
   "metadata": {},
   "source": [
    "# Làm sạch dữ liệu nhà hàng"
   ]
  },
  {
   "cell_type": "markdown",
   "metadata": {},
   "source": [
    "### Kiểm tra lỗi trùng lặp"
   ]
  },
  {
   "cell_type": "code",
   "execution_count": 8,
   "metadata": {},
   "outputs": [
    {
     "name": "stdout",
     "output_type": "stream",
     "text": [
      "Số các bản ghi bị trùng lặp: 0\n"
     ]
    }
   ],
   "source": [
    "print(\"Số các bản ghi bị trùng lặp:\", df_restaurant.duplicated().sum())"
   ]
  },
  {
   "cell_type": "markdown",
   "metadata": {},
   "source": [
    "### Xóa các bản ghi bị trùng lặp"
   ]
  },
  {
   "cell_type": "code",
   "execution_count": 9,
   "metadata": {},
   "outputs": [],
   "source": [
    "df_restaurant.drop_duplicates(inplace= True, keep= \"first\")"
   ]
  },
  {
   "cell_type": "markdown",
   "metadata": {},
   "source": [
    "### Kiểm tra giá trị rỗng"
   ]
  },
  {
   "cell_type": "code",
   "execution_count": 10,
   "metadata": {},
   "outputs": [
    {
     "data": {
      "text/plain": [
       "Link                      0\n",
       "Image                     0\n",
       "Tên nhà hàng              7\n",
       "Loại hình                 0\n",
       "Phong cách món ăn       388\n",
       "Đối tượng phù hợp         0\n",
       "Đánh giá trung bình     485\n",
       "Tổng số bình luận         0\n",
       "Bình luận tuyệt vời       0\n",
       "Bình luận khá tốt         0\n",
       "Bình luận trung bình      0\n",
       "Bình luận kém             0\n",
       "Điểm không gian         485\n",
       "Điểm vị trí             485\n",
       "Điểm chất lượng         485\n",
       "Điểm phục vụ            485\n",
       "Điểm giá cả             485\n",
       "Đường                     7\n",
       "Quận                      7\n",
       "Thành phố                 7\n",
       "Giờ mở cửa                7\n",
       "Khoảng giá              402\n",
       "dtype: int64"
      ]
     },
     "execution_count": 10,
     "metadata": {},
     "output_type": "execute_result"
    }
   ],
   "source": [
    "df_restaurant.isna().sum()"
   ]
  },
  {
   "cell_type": "markdown",
   "metadata": {},
   "source": [
    "- Có thể thấy dữ liệu có một bản ghi bị lỗi không có dữ liệu về tên nhà hàng vì thế ta chọn các xóa bản ghi này đi  \n",
    "- Ngoài ra các bản ghi khác có giá trị null ở các cột như Phong các món ăn, Điểm giá trung bình,..... đều là do các nhà hàng này trên web không có dữ liệu. Vì thế ở các thuộc tính có giá trị là số tôi sẽ xử lý bằng cách thay thế bằng giá trị 0, còn các trường khác sẽ được thay thế bằng chuỗi rỗng"
   ]
  },
  {
   "cell_type": "code",
   "execution_count": 11,
   "metadata": {},
   "outputs": [],
   "source": [
    "# Xóa bản ghi bị None ở thuộc tính Tên nhà hàng\n",
    "df = df_restaurant.dropna(subset=[\"Tên nhà hàng\"])"
   ]
  },
  {
   "cell_type": "code",
   "execution_count": 12,
   "metadata": {},
   "outputs": [],
   "source": [
    "# Xử lý các cột số: thay NaN bằng 0\n",
    "numeric_columns = df.select_dtypes(include=[\"number\"]).columns\n",
    "df.loc[:, numeric_columns] = df[numeric_columns].fillna(0)\n",
    "\n",
    "# Xử lý các cột chuỗi: thay NaN bằng chuỗi rỗng\n",
    "string_columns = [\"Phong cách món ăn\", \"Khoảng giá\"]\n",
    "df.loc[:, string_columns] = df[string_columns].fillna(\"\")\n"
   ]
  },
  {
   "cell_type": "code",
   "execution_count": 13,
   "metadata": {},
   "outputs": [
    {
     "data": {
      "text/plain": [
       "Link                    0\n",
       "Image                   0\n",
       "Tên nhà hàng            0\n",
       "Loại hình               0\n",
       "Phong cách món ăn       0\n",
       "Đối tượng phù hợp       0\n",
       "Đánh giá trung bình     0\n",
       "Tổng số bình luận       0\n",
       "Bình luận tuyệt vời     0\n",
       "Bình luận khá tốt       0\n",
       "Bình luận trung bình    0\n",
       "Bình luận kém           0\n",
       "Điểm không gian         0\n",
       "Điểm vị trí             0\n",
       "Điểm chất lượng         0\n",
       "Điểm phục vụ            0\n",
       "Điểm giá cả             0\n",
       "Đường                   0\n",
       "Quận                    0\n",
       "Thành phố               0\n",
       "Giờ mở cửa              0\n",
       "Khoảng giá              0\n",
       "dtype: int64"
      ]
     },
     "execution_count": 13,
     "metadata": {},
     "output_type": "execute_result"
    }
   ],
   "source": [
    "# Kiểm tra lại\n",
    "df.isna().sum()"
   ]
  },
  {
   "cell_type": "markdown",
   "metadata": {},
   "source": [
    "### Kiểm tra lỗi logic"
   ]
  },
  {
   "cell_type": "code",
   "execution_count": 14,
   "metadata": {},
   "outputs": [
    {
     "data": {
      "text/plain": [
       "Series([], dtype: float64)"
      ]
     },
     "execution_count": 14,
     "metadata": {},
     "output_type": "execute_result"
    }
   ],
   "source": [
    "# Kiểm tra xem có điểm đánh giá nào lớn hơn 10 hoặc nhỏ hơn 0 không\n",
    "columns_to_check = pd.concat([df.iloc[:, [6]], df.iloc[:, 12:17]], axis=1)\n",
    "invalid_values = columns_to_check[(columns_to_check < 0) | (columns_to_check > 10)].stack()\n",
    "\n",
    "# Kết quả\n",
    "invalid_values"
   ]
  },
  {
   "cell_type": "markdown",
   "metadata": {},
   "source": [
    "Không thấy có bất kỳ trường hợp bất thường nào về điểm đánh giá. Vì thế có thể nói dữ liệu không có bất kì bất thường nào về giá trị ngoại lai."
   ]
  },
  {
   "cell_type": "markdown",
   "metadata": {},
   "source": [
    "### Thực hiện Kiểm tra các giá trị trong từng thuộc tính"
   ]
  },
  {
   "cell_type": "markdown",
   "metadata": {},
   "source": [
    "##### Cột Loại Hình"
   ]
  },
  {
   "cell_type": "code",
   "execution_count": 15,
   "metadata": {},
   "outputs": [],
   "source": [
    "Loai_hinh = df[\"Loại hình\"].value_counts().to_dict()"
   ]
  },
  {
   "cell_type": "code",
   "execution_count": 16,
   "metadata": {},
   "outputs": [
    {
     "name": "stdout",
     "output_type": "stream",
     "text": [
      "{'Quán ăn': 773, 'Nhà hàng': 553, 'Ăn vặt/vỉa hè': 506, 'Café/Dessert': 344, 'Ăn chay': 276, 'Tiệm bánh': 251, 'Buffet': 155, 'Shop Online': 149, 'Sang trọng': 97, 'Giao cơm văn phòng': 71, 'Quán nhậu': 59, 'Beer club': 54, 'Bar/Pub': 52, 'Khu Ẩm Thực': 50, 'Tiệc tận nơi': 34, 'Tiệc cưới/Hội nghị': 12, 'Shop/Cửa hàng': 8, 'Khách sạn': 4, 'Chợ': 2, 'Mua sắm Online': 2, 'Karaoke': 2, 'Thăm quan & chụp ảnh': 1, 'Billiards': 1, 'Sân khấu': 1, 'Khu chơi Game': 1, 'Bank - ATM': 1, 'Khu nghỉ dưỡng': 1, 'Siêu thị': 1, 'Trung tâm thương mại': 1, 'Nhà nghỉ': 1}\n"
     ]
    }
   ],
   "source": [
    "normalized_Loai_hinh = defaultdict(int)\n",
    "\n",
    "for key, value in Loai_hinh.items():\n",
    "\n",
    "    types = [x.strip() for x in key.split(',,')]\n",
    "    for t in types:\n",
    "        normalized_Loai_hinh[t] += value\n",
    "\n",
    "normalized_Loai_hinh = dict(sorted(normalized_Loai_hinh.items(), key=lambda x: x[1], reverse=True))\n",
    "\n",
    "print(normalized_Loai_hinh)"
   ]
  },
  {
   "cell_type": "code",
   "execution_count": 17,
   "metadata": {},
   "outputs": [
    {
     "data": {
      "image/png": "[encoded data removed]",
      "text/plain": [
       "<Figure size 1000x600 with 1 Axes>"
      ]
     },
     "metadata": {},
     "output_type": "display_data"
    }
   ],
   "source": [
    "filtered_data = {k: v for k, v in normalized_Loai_hinh.items() if v >= 10}\n",
    "\n",
    "# Chuyển đổi thành danh sách\n",
    "categories = list(filtered_data.keys())\n",
    "frequencies = list(filtered_data.values())\n",
    "\n",
    "# Tạo biểu đồ cột\n",
    "plt.figure(figsize=(10, 6))\n",
    "plt.barh(categories, frequencies, color='skyblue')\n",
    "plt.xlabel('Tần suất', fontsize=14)\n",
    "plt.ylabel('Loại hình', fontsize=14)\n",
    "plt.title('Tần suất các loại hình quán ăn', fontsize=16)\n",
    "plt.gca().invert_yaxis() \n",
    "plt.tight_layout()\n",
    "plt.show()"
   ]
  },
  {
   "cell_type": "markdown",
   "metadata": {},
   "source": [
    "- Loại hình địa điểm ăn uống & dịch vụ\n",
    "\n",
    "  - Dữ liệu bao gồm 30 loại hình, với tổng cộng 3,459 địa điểm.\n",
    "\n",
    "  - Các loại hình phổ biến nhất:\n",
    "    - Quán ăn (773 địa điểm)\n",
    "    - Nhà hàng (553)\n",
    "    - Ăn vặt/vỉa hè (506)\n",
    "    - Café/Dessert (344)\n",
    "    - Ăn chay, Tiệm bánh, Buffet đều trên 100 địa điểm\n",
    "\n",
    "  - Những loại hình có số lượng thấp (<10 địa điểm) như:\n",
    "    Karaoke, Billiards, Sân khấu, Khu chơi Game, Bank - ATM, Khách sạn, Nhà nghỉ, Khu nghỉ dưỡng, Siêu thị, Chợ, Trung tâm thương mại, Mua sắm Online,...\n",
    "\n",
    "    → Cần được gộp nhóm lại để dễ quản lý và phân tích.\n"
   ]
  },
  {
   "cell_type": "code",
   "execution_count": null,
   "metadata": {},
   "outputs": [],
   "source": [
    "group_mapping = {\n",
    "    \"Khu vui chơi / Giải trí\": [\n",
    "        \"Karaoke\", \"Billiards\", \"Khu chơi Game\", \"Sân khấu\", \"Thăm quan & chụp ảnh\"\n",
    "    ],\n",
    "    \"Lưu trú / Nghỉ dưỡng\": [\n",
    "        \"Khách sạn\", \"Nhà nghỉ\", \"Khu nghỉ dưỡng\"\n",
    "    ],\n",
    "    \"Dịch vụ - Mua sắm\": [\n",
    "        \"Shop/Cửa hàng\", \"Siêu thị\", \"Chợ\", \"Trung tâm thương mại\", \"Mua sắm Online\", \"Bank - ATM\"\n",
    "    ],\n",
    "    \"Tiệc & Sự kiện\": [\n",
    "        \"Tiệc cưới/Hội nghị\", \"Tiệc tận nơi\"\n",
    "    ]\n",
    "}\n",
    "\n",
    "def replace_with_grouped_categories(original_categories):\n",
    "    if isinstance(original_categories, str):\n",
    "        original_categories = [x.strip().strip(\",\") for x in original_categories.split(\",,\") if x.strip()]\n",
    "    elif not isinstance(original_categories, list):\n",
    "        return \"\"\n",
    "\n",
    "    cleaned = [c.strip().strip(\",\") for c in original_categories if isinstance(c, str) and c]\n",
    "    replaced = set()\n",
    "    remaining = set(cleaned)\n",
    "\n",
    "    for group_name, group_items in group_mapping.items():\n",
    "        found = set(group_items) & remaining\n",
    "        if found:\n",
    "            remaining -= found\n",
    "            replaced.add(group_name)\n",
    "\n",
    "    final = list(remaining | replaced)\n",
    "    return \", \".join(final)  \n",
    "\n",
    "df = df.copy()\n",
    "df[\"Loại hình\"] = df[\"Loại hình\"].apply(replace_with_grouped_categories)"
   ]
  },
  {
   "cell_type": "markdown",
   "metadata": {},
   "source": [
    "##### Trực quan hóa dữ liệu"
   ]
  },
  {
   "cell_type": "code",
   "execution_count": 19,
   "metadata": {},
   "outputs": [
    {
     "data": {
      "image/png": "[encoded data removed]",
      "text/plain": [
       "<Figure size 1200x800 with 1 Axes>"
      ]
     },
     "metadata": {},
     "output_type": "display_data"
    }
   ],
   "source": [
    "from collections import defaultdict, Counter\n",
    "from itertools import chain\n",
    "\n",
    "\n",
    "all_categories = list(chain.from_iterable(\n",
    "    [x.split(\", \") if isinstance(x, str) else [] for x in df[\"Loại hình\"]]\n",
    "))\n",
    "\n",
    "# Bước 3: Đếm số lần xuất hiện\n",
    "normalized_Loai_hinh = dict(Counter(all_categories))\n",
    "\n",
    "# Bước 4: Sắp xếp theo tần suất giảm dần\n",
    "normalized_Loai_hinh = dict(sorted(normalized_Loai_hinh.items(), key=lambda x: x[1], reverse=True))\n",
    "\n",
    "# Bước 5: Trực quan hóa\n",
    "plt.figure(figsize=(12, 8))\n",
    "categories = list(normalized_Loai_hinh.keys())\n",
    "frequencies = list(normalized_Loai_hinh.values())\n",
    "\n",
    "bars = plt.barh(categories, frequencies, color='#5DADE2')\n",
    "plt.gca().invert_yaxis()\n",
    "\n",
    "plt.xlabel(\"Tần suất\", fontsize=13)\n",
    "plt.ylabel(\"Loại hình\", fontsize=13)\n",
    "plt.title(\"Phân bố tần suất các loại hình sau khi gộp\", fontsize=15)\n",
    "\n",
    "# Hiển thị giá trị trên từng cột\n",
    "for bar in bars:\n",
    "    plt.text(bar.get_width() + 3, bar.get_y() + bar.get_height()/2,\n",
    "             str(bar.get_width()), va='center', fontsize=10)\n",
    "\n",
    "plt.tight_layout()\n",
    "plt.show()"
   ]
  },
  {
   "cell_type": "markdown",
   "metadata": {},
   "source": [
    "##### Các đối tượng phù hợp"
   ]
  },
  {
   "cell_type": "code",
   "execution_count": 20,
   "metadata": {},
   "outputs": [],
   "source": [
    "Doi_tuong = df[\"Đối tượng phù hợp\"].value_counts().to_dict()"
   ]
  },
  {
   "cell_type": "code",
   "execution_count": 21,
   "metadata": {},
   "outputs": [
    {
     "data": {
      "text/plain": [
       "{'Nhóm hội': 1872,\n",
       " 'Gia đình': 1856,\n",
       " 'Giới văn phòng': 1412,\n",
       " 'Cặp đôi': 1229,\n",
       " 'Sinh viên': 855,\n",
       " 'Không xác định': 551,\n",
       " 'Khách du lịch': 236,\n",
       " 'Giới Manager': 209,\n",
       " 'Trẻ em': 138}"
      ]
     },
     "execution_count": 21,
     "metadata": {},
     "output_type": "execute_result"
    }
   ],
   "source": [
    "normalized_Doi_tuong = defaultdict(int)\n",
    "\n",
    "for key, value in Doi_tuong.items():\n",
    "\n",
    "    types = [x.strip() for x in key.split(',')]\n",
    "    for t in types:\n",
    "        normalized_Doi_tuong[t] += value\n",
    "\n",
    "normalized_Doi_tuong = dict(sorted(normalized_Doi_tuong.items(), key=lambda x: x[1], reverse=True))\n",
    "if '' in normalized_Doi_tuong:\n",
    "    normalized_Doi_tuong['Không xác định'] = normalized_Doi_tuong.pop('')\n",
    "\n",
    "normalized_Doi_tuong = dict(sorted(normalized_Doi_tuong.items(), key=lambda x: x[1], reverse=True))\n",
    "normalized_Doi_tuong"
   ]
  },
  {
   "cell_type": "code",
   "execution_count": 26,
   "metadata": {},
   "outputs": [
    {
     "data": {
      "image/png": "[encoded data removed]",
      "text/plain": [
       "<Figure size 1000x600 with 1 Axes>"
      ]
     },
     "metadata": {},
     "output_type": "display_data"
    }
   ],
   "source": [
    "# Chuyển đổi thành danh sách\n",
    "categories = list(normalized_Doi_tuong.keys())\n",
    "frequencies = list(normalized_Doi_tuong.values())\n",
    "\n",
    "# Tạo biểu đồ cột\n",
    "plt.figure(figsize=(10, 6))\n",
    "plt.barh(categories, frequencies, color='skyblue')\n",
    "plt.xlabel('Tần suất', fontsize=14)\n",
    "plt.ylabel('Đối tượng phù hợp', fontsize=14)\n",
    "plt.title('Tần suất đối tượng khách hàng', fontsize=16)\n",
    "plt.gca().invert_yaxis() \n",
    "plt.tight_layout()\n",
    "plt.show()"
   ]
  },
  {
   "cell_type": "markdown",
   "metadata": {},
   "source": [
    "### Kiểm tra phân bố của điểm đánh giá"
   ]
  },
  {
   "cell_type": "markdown",
   "metadata": {},
   "source": [
    "###"
   ]
  },
  {
   "cell_type": "code",
   "execution_count": 27,
   "metadata": {},
   "outputs": [
    {
     "data": {
      "image/png": "[encoded data removed]",
      "text/plain": [
       "<Figure size 1000x600 with 1 Axes>"
      ]
     },
     "metadata": {},
     "output_type": "display_data"
    }
   ],
   "source": [
    "# Vẽ biểu đồ\n",
    "plt.figure(figsize=(10, 6))\n",
    "plt.hist(df[\"Đánh giá trung bình\"], bins=20, color='blue', alpha=0.7, edgecolor='black')\n",
    "plt.title(\"Phân bố điểm đánh giá trung bình\")\n",
    "plt.xlabel(\"Đánh giá trung bình\")\n",
    "plt.ylabel(\"Tần số\")\n",
    "plt.grid(axis='y', alpha=0.75)\n",
    "\n",
    "# Hiển thị biểu đồ\n",
    "plt.show()\n",
    "\n"
   ]
  },
  {
   "cell_type": "markdown",
   "metadata": {},
   "source": [
    " Nhận định từ biểu đồ phân bố điểm đánh giá trung bình:\n",
    "\n",
    "  - Phần lớn các quán ăn có điểm đánh giá trung bình nằm trong khoảng từ 6 đến 9 điểm, trong đó đỉnh rơi vào khoảng 7 điểm. Điều này cho thấy đa số các quán có chất lượng tương đối ổn định và được người dùng đánh giá tích cực.\n",
    "\n",
    "  - Có một lượng rất lớn quán ăn có điểm đánh giá bằng 0. Đây là các quán chưa có đánh giá nào từ người dùng, thường là quán mới hoặc chưa có tương tác trên nền tảng. Cần xử lý dữ liệu này cẩn thận vì không phản ánh chất lượng thực tế.\n",
    "\n",
    "  - Các quán có điểm dưới 5 là rất ít, điều này phản ánh hành vi người dùng thường ít đánh giá tiêu cực, hoặc các quán có chất lượng thấp đã không còn tồn tại trên hệ thống.\n"
   ]
  },
  {
   "cell_type": "markdown",
   "metadata": {},
   "source": [
    "### Kiểm tra phong cách món ăn"
   ]
  },
  {
   "cell_type": "code",
   "execution_count": 28,
   "metadata": {},
   "outputs": [
    {
     "data": {
      "text/plain": [
       "{'Món Việt': 1327,\n",
       " '': 381,\n",
       " 'Quốc tế': 198,\n",
       " 'Món Bắc': 172,\n",
       " 'Món Hàn': 161,\n",
       " 'Hà Nội': 148,\n",
       " 'Món Á': 130,\n",
       " 'Món Nhật': 115,\n",
       " 'Đài Loan': 68,\n",
       " 'Pháp': 44,\n",
       " 'Món Trung Hoa': 32,\n",
       " 'Món Thái': 27,\n",
       " 'Món Miền Nam': 25,\n",
       " 'Mỹ': 20,\n",
       " 'Món Âu': 20,\n",
       " 'Ý': 19,\n",
       " 'Món Miền Trung': 15,\n",
       " 'Singapore': 14,\n",
       " 'Món Quảng': 9,\n",
       " 'Châu Mỹ': 7,\n",
       " 'Món Ấn Độ': 7,\n",
       " 'Món Huế': 7,\n",
       " 'Đặc biệt': 6,\n",
       " 'Malaysia': 5,\n",
       " 'Nha Trang': 4,\n",
       " 'Đông Âu': 1,\n",
       " 'Bánh Pizza': 1,\n",
       " 'Tây Bắc': 1,\n",
       " 'Thổ Nhĩ Kỳ': 1,\n",
       " 'Tiệp (Séc)': 1,\n",
       " 'Miền Tây': 1,\n",
       " 'Brazil': 1,\n",
       " 'Úc': 1,\n",
       " 'Trung Đông': 1}"
      ]
     },
     "execution_count": 28,
     "metadata": {},
     "output_type": "execute_result"
    }
   ],
   "source": [
    "df[\"Phong cách món ăn\"].value_counts().to_dict()"
   ]
  },
  {
   "cell_type": "code",
   "execution_count": 29,
   "metadata": {},
   "outputs": [],
   "source": [
    "group_mapping = {\n",
    "    \"Món Âu\": [\"Đông Âu\", \"Bánh Pizza\", \"Thổ Nhĩ Kỳ\", \"Tiệp (Séc)\"],\n",
    "    \"Mỹ\": [\"Brazil\"],\n",
    "    \"Quốc tế\": [\"Úc\"],\n",
    "    \"Món Á\": [\"Trung Đông\"],\n",
    "    \"Món Việt\": [\"Tây Bắc\", \"Miền Tây\"]\n",
    "}\n",
    "def map_cuisine_group(cuisine):\n",
    "    if cuisine == '' or pd.isna(cuisine):\n",
    "        return cuisine  # giữ nguyên giá trị rỗng/NaN\n",
    "    for group, items in group_mapping.items():\n",
    "        if cuisine.strip() in items:\n",
    "            return group\n",
    "    return cuisine\n"
   ]
  },
  {
   "cell_type": "code",
   "execution_count": 30,
   "metadata": {},
   "outputs": [],
   "source": [
    "df[\"Phong cách món ăn\"] = df[\"Phong cách món ăn\"].apply(map_cuisine_group)\n"
   ]
  },
  {
   "cell_type": "markdown",
   "metadata": {},
   "source": [
    "### Kiểm tra dữ liệu thiếu 3 thuộc tính Phong cách món ăn, Loại hình và đánh giá trung bình"
   ]
  },
  {
   "cell_type": "code",
   "execution_count": 31,
   "metadata": {},
   "outputs": [],
   "source": [
    "missing_values_df = df[\n",
    "    (df[\"Phong cách món ăn\"].isna()) &\n",
    "    (df[\"Đối tượng phù hợp\"].isna()) &\n",
    "    (df[\"Đánh giá trung bình\"] == 0)\n",
    "]\n"
   ]
  },
  {
   "cell_type": "code",
   "execution_count": 32,
   "metadata": {},
   "outputs": [
    {
     "data": {
      "text/plain": [
       "(0, 22)"
      ]
     },
     "execution_count": 32,
     "metadata": {},
     "output_type": "execute_result"
    }
   ],
   "source": [
    "missing_values_df.shape"
   ]
  },
  {
   "cell_type": "markdown",
   "metadata": {},
   "source": [
    "- Không có nhà hàng nào thiếu cả 3 giá trị của thuộc tính này. Nhưng trong cột Phong cách món ăn có 381 nhà hàng có giá trị là ''. Kiểm tra? và đưa ra cách khắc phục. "
   ]
  },
  {
   "cell_type": "code",
   "execution_count": 33,
   "metadata": {},
   "outputs": [
    {
     "data": {
      "text/html": [
       "<div>\n",
       "<style scoped>\n",
       "    .dataframe tbody tr th:only-of-type {\n",
       "        vertical-align: middle;\n",
       "    }\n",
       "\n",
       "    .dataframe tbody tr th {\n",
       "        vertical-align: top;\n",
       "    }\n",
       "\n",
       "    .dataframe thead th {\n",
       "        text-align: right;\n",
       "    }\n",
       "</style>\n",
       "<table border=\"1\" class=\"dataframe\">\n",
       "  <thead>\n",
       "    <tr style=\"text-align: right;\">\n",
       "      <th></th>\n",
       "      <th>Link</th>\n",
       "      <th>Image</th>\n",
       "      <th>Tên nhà hàng</th>\n",
       "      <th>Loại hình</th>\n",
       "      <th>Phong cách món ăn</th>\n",
       "      <th>Đối tượng phù hợp</th>\n",
       "      <th>Đánh giá trung bình</th>\n",
       "      <th>Tổng số bình luận</th>\n",
       "      <th>Bình luận tuyệt vời</th>\n",
       "      <th>Bình luận khá tốt</th>\n",
       "      <th>...</th>\n",
       "      <th>Điểm không gian</th>\n",
       "      <th>Điểm vị trí</th>\n",
       "      <th>Điểm chất lượng</th>\n",
       "      <th>Điểm phục vụ</th>\n",
       "      <th>Điểm giá cả</th>\n",
       "      <th>Đường</th>\n",
       "      <th>Quận</th>\n",
       "      <th>Thành phố</th>\n",
       "      <th>Giờ mở cửa</th>\n",
       "      <th>Khoảng giá</th>\n",
       "    </tr>\n",
       "  </thead>\n",
       "  <tbody>\n",
       "    <tr>\n",
       "      <th>34</th>\n",
       "      <td>https://www.foody.vn/ha-noi/ham-ruou-il-vino-m...</td>\n",
       "      <td>https://down-vn.img.susercontent.com/vn-111342...</td>\n",
       "      <td>Hầm Rượu Il Vino - My Way Hotel</td>\n",
       "      <td>Bar/Pub, Sang trọng</td>\n",
       "      <td></td>\n",
       "      <td>Gia đình, Giới văn phòng, Giới Manager</td>\n",
       "      <td>6.8</td>\n",
       "      <td>15</td>\n",
       "      <td>3</td>\n",
       "      <td>5</td>\n",
       "      <td>...</td>\n",
       "      <td>7.1</td>\n",
       "      <td>6.7</td>\n",
       "      <td>6.9</td>\n",
       "      <td>6.8</td>\n",
       "      <td>6.3</td>\n",
       "      <td>My Way Hotel, 2 Ngõ 86 Duy Tân</td>\n",
       "      <td>Quận Cầu Giấy</td>\n",
       "      <td>Hà Nội</td>\n",
       "      <td>08:00 - 22:00</td>\n",
       "      <td>1.000.000đ - 10.000.000đ</td>\n",
       "    </tr>\n",
       "    <tr>\n",
       "      <th>36</th>\n",
       "      <td>https://www.foody.vn/ha-noi/milan-restaurant-i...</td>\n",
       "      <td>https://down-vn.img.susercontent.com/vn-111342...</td>\n",
       "      <td>Milan Restaurant - InterContinental Hanoi West...</td>\n",
       "      <td>Sang trọng</td>\n",
       "      <td></td>\n",
       "      <td>Cặp đôi, Gia đình, Nhóm hội, Giới văn phòng</td>\n",
       "      <td>8.7</td>\n",
       "      <td>3</td>\n",
       "      <td>2</td>\n",
       "      <td>1</td>\n",
       "      <td>...</td>\n",
       "      <td>8.3</td>\n",
       "      <td>9.7</td>\n",
       "      <td>9.3</td>\n",
       "      <td>8.7</td>\n",
       "      <td>7.3</td>\n",
       "      <td>InterContinental Hanoi Hotel, 5 Từ Hoa, P. Quả...</td>\n",
       "      <td>Quận Tây Hồ</td>\n",
       "      <td>Hà Nội</td>\n",
       "      <td>18:00 - 22:30</td>\n",
       "      <td>1.000.000đ - 10.000.000đ</td>\n",
       "    </tr>\n",
       "    <tr>\n",
       "      <th>37</th>\n",
       "      <td>https://www.foody.vn/ha-noi/cafe-du-lac-interc...</td>\n",
       "      <td>https://down-vn.img.susercontent.com/vn-111342...</td>\n",
       "      <td>Cafe Du Lac - InterContinental Hanoi Westlake</td>\n",
       "      <td>Café/Dessert, Sang trọng</td>\n",
       "      <td></td>\n",
       "      <td>Cặp đôi, Gia đình, Nhóm hội, Giới văn phòng</td>\n",
       "      <td>7.7</td>\n",
       "      <td>6</td>\n",
       "      <td>1</td>\n",
       "      <td>4</td>\n",
       "      <td>...</td>\n",
       "      <td>8.0</td>\n",
       "      <td>7.8</td>\n",
       "      <td>8.0</td>\n",
       "      <td>8.0</td>\n",
       "      <td>6.7</td>\n",
       "      <td>InterContinental Hanoi Hotel, 5 Từ Hoa, P. Quả...</td>\n",
       "      <td>Quận Tây Hồ</td>\n",
       "      <td>Hà Nội</td>\n",
       "      <td>12:00 - 15:00 | 18:00 - 21:30</td>\n",
       "      <td>100.000đ - 250.000đ</td>\n",
       "    </tr>\n",
       "    <tr>\n",
       "      <th>44</th>\n",
       "      <td>https://www.foody.vn/ha-noi/diplomat-lounge-in...</td>\n",
       "      <td>https://down-vn.img.susercontent.com/vn-111342...</td>\n",
       "      <td>Diplomat Lounge - InterContinental Hanoi Westlake</td>\n",
       "      <td>Sang trọng</td>\n",
       "      <td></td>\n",
       "      <td>Cặp đôi, Gia đình, Nhóm hội, Giới văn phòng</td>\n",
       "      <td>6.3</td>\n",
       "      <td>3</td>\n",
       "      <td>0</td>\n",
       "      <td>1</td>\n",
       "      <td>...</td>\n",
       "      <td>6.7</td>\n",
       "      <td>6.7</td>\n",
       "      <td>6.3</td>\n",
       "      <td>6.3</td>\n",
       "      <td>5.3</td>\n",
       "      <td>InterContinental Hanoi Hotel, 5 Từ Hoa</td>\n",
       "      <td>Quận Tây Hồ</td>\n",
       "      <td>Hà Nội</td>\n",
       "      <td>07:00 - 11:00</td>\n",
       "      <td>100.000đ - 2.000.000đ</td>\n",
       "    </tr>\n",
       "    <tr>\n",
       "      <th>47</th>\n",
       "      <td>https://www.foody.vn/ha-noi/nem-chua-ran-36-ta...</td>\n",
       "      <td>https://down-vn.img.susercontent.com/vn-111342...</td>\n",
       "      <td>Nem Chua Rán 36 Tạm Thương - Nguyễn Văn Giáp</td>\n",
       "      <td>Sang trọng</td>\n",
       "      <td></td>\n",
       "      <td></td>\n",
       "      <td>10.0</td>\n",
       "      <td>1</td>\n",
       "      <td>1</td>\n",
       "      <td>0</td>\n",
       "      <td>...</td>\n",
       "      <td>10.0</td>\n",
       "      <td>10.0</td>\n",
       "      <td>10.0</td>\n",
       "      <td>10.0</td>\n",
       "      <td>10.0</td>\n",
       "      <td>154 Nguyễn Văn Giáp</td>\n",
       "      <td>Quận Nam Từ Liêm</td>\n",
       "      <td>Hà Nội</td>\n",
       "      <td>10:00 - 22:00</td>\n",
       "      <td>5.000đ - 100.000đ</td>\n",
       "    </tr>\n",
       "  </tbody>\n",
       "</table>\n",
       "<p>5 rows × 22 columns</p>\n",
       "</div>"
      ],
      "text/plain": [
       "                                                 Link  \\\n",
       "34  https://www.foody.vn/ha-noi/ham-ruou-il-vino-m...   \n",
       "36  https://www.foody.vn/ha-noi/milan-restaurant-i...   \n",
       "37  https://www.foody.vn/ha-noi/cafe-du-lac-interc...   \n",
       "44  https://www.foody.vn/ha-noi/diplomat-lounge-in...   \n",
       "47  https://www.foody.vn/ha-noi/nem-chua-ran-36-ta...   \n",
       "\n",
       "                                                Image  \\\n",
       "34  https://down-vn.img.susercontent.com/vn-111342...   \n",
       "36  https://down-vn.img.susercontent.com/vn-111342...   \n",
       "37  https://down-vn.img.susercontent.com/vn-111342...   \n",
       "44  https://down-vn.img.susercontent.com/vn-111342...   \n",
       "47  https://down-vn.img.susercontent.com/vn-111342...   \n",
       "\n",
       "                                         Tên nhà hàng  \\\n",
       "34                    Hầm Rượu Il Vino - My Way Hotel   \n",
       "36  Milan Restaurant - InterContinental Hanoi West...   \n",
       "37      Cafe Du Lac - InterContinental Hanoi Westlake   \n",
       "44  Diplomat Lounge - InterContinental Hanoi Westlake   \n",
       "47       Nem Chua Rán 36 Tạm Thương - Nguyễn Văn Giáp   \n",
       "\n",
       "                   Loại hình Phong cách món ăn  \\\n",
       "34       Bar/Pub, Sang trọng                     \n",
       "36                Sang trọng                     \n",
       "37  Café/Dessert, Sang trọng                     \n",
       "44                Sang trọng                     \n",
       "47                Sang trọng                     \n",
       "\n",
       "                              Đối tượng phù hợp  Đánh giá trung bình  \\\n",
       "34       Gia đình, Giới văn phòng, Giới Manager                  6.8   \n",
       "36  Cặp đôi, Gia đình, Nhóm hội, Giới văn phòng                  8.7   \n",
       "37  Cặp đôi, Gia đình, Nhóm hội, Giới văn phòng                  7.7   \n",
       "44  Cặp đôi, Gia đình, Nhóm hội, Giới văn phòng                  6.3   \n",
       "47                                                              10.0   \n",
       "\n",
       "    Tổng số bình luận  Bình luận tuyệt vời  Bình luận khá tốt  ...  \\\n",
       "34                 15                    3                  5  ...   \n",
       "36                  3                    2                  1  ...   \n",
       "37                  6                    1                  4  ...   \n",
       "44                  3                    0                  1  ...   \n",
       "47                  1                    1                  0  ...   \n",
       "\n",
       "    Điểm không gian  Điểm vị trí  Điểm chất lượng  Điểm phục vụ  Điểm giá cả  \\\n",
       "34              7.1          6.7              6.9           6.8          6.3   \n",
       "36              8.3          9.7              9.3           8.7          7.3   \n",
       "37              8.0          7.8              8.0           8.0          6.7   \n",
       "44              6.7          6.7              6.3           6.3          5.3   \n",
       "47             10.0         10.0             10.0          10.0         10.0   \n",
       "\n",
       "                                                Đường              Quận  \\\n",
       "34                     My Way Hotel, 2 Ngõ 86 Duy Tân     Quận Cầu Giấy   \n",
       "36  InterContinental Hanoi Hotel, 5 Từ Hoa, P. Quả...       Quận Tây Hồ   \n",
       "37  InterContinental Hanoi Hotel, 5 Từ Hoa, P. Quả...       Quận Tây Hồ   \n",
       "44             InterContinental Hanoi Hotel, 5 Từ Hoa       Quận Tây Hồ   \n",
       "47                                154 Nguyễn Văn Giáp  Quận Nam Từ Liêm   \n",
       "\n",
       "   Thành phố                     Giờ mở cửa                Khoảng giá  \n",
       "34    Hà Nội                  08:00 - 22:00  1.000.000đ - 10.000.000đ  \n",
       "36    Hà Nội                  18:00 - 22:30  1.000.000đ - 10.000.000đ  \n",
       "37    Hà Nội  12:00 - 15:00 | 18:00 - 21:30       100.000đ - 250.000đ  \n",
       "44    Hà Nội                  07:00 - 11:00     100.000đ - 2.000.000đ  \n",
       "47    Hà Nội                  10:00 - 22:00         5.000đ - 100.000đ  \n",
       "\n",
       "[5 rows x 22 columns]"
      ]
     },
     "execution_count": 33,
     "metadata": {},
     "output_type": "execute_result"
    }
   ],
   "source": [
    "df[df[\"Phong cách món ăn\"] == \"\"].head()"
   ]
  },
  {
   "cell_type": "code",
   "execution_count": 34,
   "metadata": {},
   "outputs": [],
   "source": [
    "df[\"Phong cách món ăn\"] = df[\"Phong cách món ăn\"].replace('', np.nan)\n",
    "\n",
    "# Bước 2: Điền theo mode trong từng nhóm loại hình\n",
    "df.loc[:, \"Phong cách món ăn\"] = df.groupby(\"Loại hình\")[\"Phong cách món ăn\"].transform(\n",
    "    lambda x: x.fillna(x.mode()[0] if not x.mode().empty else \"Không xác định\")\n",
    ")"
   ]
  },
  {
   "cell_type": "markdown",
   "metadata": {},
   "source": [
    "### Thực hiện việc đánh ID nhà hàng"
   ]
  },
  {
   "cell_type": "code",
   "execution_count": 35,
   "metadata": {},
   "outputs": [],
   "source": [
    "df['Restaurant ID'] = (\n",
    "    df.groupby(['Tên nhà hàng', 'Link']).ngroup() + 1\n",
    ")"
   ]
  },
  {
   "cell_type": "markdown",
   "metadata": {},
   "source": [
    "# Thực hiện lưu trữ dữ liệu"
   ]
  },
  {
   "cell_type": "code",
   "execution_count": 36,
   "metadata": {},
   "outputs": [],
   "source": [
    "df.to_csv(\"restaurant_data.csv\", index=False)"
   ]
  },
  {
   "cell_type": "markdown",
   "metadata": {},
   "source": [
    "# Đọc dữ liệu user đánh giá người dùng."
   ]
  },
  {
   "cell_type": "code",
   "execution_count": 37,
   "metadata": {},
   "outputs": [],
   "source": [
    "def parse_foody_file_safe(filepath):\n",
    "    \"\"\"\n",
    "    Đọc file txt và trích xuất các trường quan trọng thành DataFrame.\n",
    "    \"\"\"\n",
    "    with open(filepath, 'r', encoding='utf-8') as file:\n",
    "        content = file.read()\n",
    "\n",
    "    # Tách mỗi bình luận\n",
    "    raw_comments = content.strip().split('================================================================================')\n",
    "\n",
    "    data = []\n",
    "    for comment in raw_comments:\n",
    "        lines = comment.strip().split('\\n')\n",
    "        temp = {\n",
    "            'Tên người dùng': None,\n",
    "            'Link profile': None,\n",
    "            'Avatar': None,\n",
    "            'Điểm đánh giá': None,\n",
    "            'Thời gian': None,\n",
    "            'Thiết bị': None,\n",
    "            'Nội dung bình luận': None,\n",
    "            'Link quán': None\n",
    "        }\n",
    "        for line in lines:\n",
    "            for key in temp.keys():  # Kiểm tra key có trong các trường chuẩn\n",
    "                if line.lower().startswith(key.lower()):\n",
    "                    value = line.split(':', 1)[1].strip() if ':' in line else None\n",
    "                    temp[key] = value\n",
    "        # Bỏ qua bình luận thiếu thông tin quan trọng (nếu muốn)\n",
    "        if temp['Tên người dùng'] and temp['Nội dung bình luận']:\n",
    "            data.append(temp)\n",
    "    return pd.DataFrame(data)\n"
   ]
  },
  {
   "cell_type": "code",
   "execution_count": 38,
   "metadata": {},
   "outputs": [],
   "source": [
    "file_path = r'D:\\Khóa luận tốt nghiệp\\crawldata\\userdanhgias.txt'"
   ]
  },
  {
   "cell_type": "code",
   "execution_count": 39,
   "metadata": {},
   "outputs": [],
   "source": [
    "df_user = parse_foody_file_safe(file_path)\n"
   ]
  },
  {
   "cell_type": "code",
   "execution_count": 40,
   "metadata": {},
   "outputs": [
    {
     "data": {
      "text/html": [
       "<div>\n",
       "<style scoped>\n",
       "    .dataframe tbody tr th:only-of-type {\n",
       "        vertical-align: middle;\n",
       "    }\n",
       "\n",
       "    .dataframe tbody tr th {\n",
       "        vertical-align: top;\n",
       "    }\n",
       "\n",
       "    .dataframe thead th {\n",
       "        text-align: right;\n",
       "    }\n",
       "</style>\n",
       "<table border=\"1\" class=\"dataframe\">\n",
       "  <thead>\n",
       "    <tr style=\"text-align: right;\">\n",
       "      <th></th>\n",
       "      <th>Tên người dùng</th>\n",
       "      <th>Link profile</th>\n",
       "      <th>Avatar</th>\n",
       "      <th>Điểm đánh giá</th>\n",
       "      <th>Thời gian</th>\n",
       "      <th>Thiết bị</th>\n",
       "      <th>Nội dung bình luận</th>\n",
       "      <th>Link quán</th>\n",
       "    </tr>\n",
       "  </thead>\n",
       "  <tbody>\n",
       "    <tr>\n",
       "      <th>0</th>\n",
       "      <td>Trà My</td>\n",
       "      <td>https://www.foody.vn/thanh-vien/foodee_s5fjg0b3</td>\n",
       "      <td>https://images.foody.vn/usr/g5646/56452113/avt...</td>\n",
       "      <td>5.0</td>\n",
       "      <td>27/9/2024 18:20</td>\n",
       "      <td>via Android</td>\n",
       "      <td>5 sao</td>\n",
       "      <td>https://www.foody.vn/ha-noi/jacksons-steakhouse</td>\n",
       "    </tr>\n",
       "    <tr>\n",
       "      <th>1</th>\n",
       "      <td>Hồng Trần</td>\n",
       "      <td>https://www.foody.vn/thanh-vien/foodee_cv6fbdb9</td>\n",
       "      <td>https://images.foody.vn/usr/g5646/56450934/avt...</td>\n",
       "      <td>10</td>\n",
       "      <td>27/9/2024 15:22</td>\n",
       "      <td>via Android</td>\n",
       "      <td>Đồ ăn ngon hợp vệ sinh giá cả phải chăng</td>\n",
       "      <td>https://www.foody.vn/ha-noi/jacksons-steakhouse</td>\n",
       "    </tr>\n",
       "    <tr>\n",
       "      <th>2</th>\n",
       "      <td>foodee_hsr9f2vg</td>\n",
       "      <td>https://www.foody.vn/thanh-vien/foodee_hsr9f2vg</td>\n",
       "      <td>https://images.foody.vn/default/s40/user-defau...</td>\n",
       "      <td>10</td>\n",
       "      <td>26/9/2024 15:27</td>\n",
       "      <td>via iPhone</td>\n",
       "      <td>đồ ăn ngon ,nhân viên phục vụ nhiệt tình ạ</td>\n",
       "      <td>https://www.foody.vn/ha-noi/jacksons-steakhouse</td>\n",
       "    </tr>\n",
       "    <tr>\n",
       "      <th>3</th>\n",
       "      <td>Thuý Vân</td>\n",
       "      <td>https://www.foody.vn/thanh-vien/foodee_hgvsse2l</td>\n",
       "      <td>https://images.foody.vn/default/s40/user-defau...</td>\n",
       "      <td>10</td>\n",
       "      <td>26/9/2024 15:23</td>\n",
       "      <td>via iPhone</td>\n",
       "      <td>Không gian thoáng, sạch đệp, nhân viên lịch sự...</td>\n",
       "      <td>https://www.foody.vn/ha-noi/jacksons-steakhouse</td>\n",
       "    </tr>\n",
       "    <tr>\n",
       "      <th>4</th>\n",
       "      <td>Phạm Thị lành</td>\n",
       "      <td>https://www.foody.vn/thanh-vien/foodee_ehidbe1p</td>\n",
       "      <td>https://images.foody.vn/default/s40/user-defau...</td>\n",
       "      <td>10</td>\n",
       "      <td>25/9/2024 16:35</td>\n",
       "      <td>via Android</td>\n",
       "      <td>Dịch vụ rất tốt rất ok</td>\n",
       "      <td>https://www.foody.vn/ha-noi/jacksons-steakhouse</td>\n",
       "    </tr>\n",
       "    <tr>\n",
       "      <th>...</th>\n",
       "      <td>...</td>\n",
       "      <td>...</td>\n",
       "      <td>...</td>\n",
       "      <td>...</td>\n",
       "      <td>...</td>\n",
       "      <td>...</td>\n",
       "      <td>...</td>\n",
       "      <td>...</td>\n",
       "    </tr>\n",
       "    <tr>\n",
       "      <th>71172</th>\n",
       "      <td>Đinh Thị Thúy</td>\n",
       "      <td>https://www.foody.vn/thanh-vien/foodee_eq3lyhcv</td>\n",
       "      <td>https://images.foody.vn/usr/g5561/55606506/avt...</td>\n",
       "      <td>10</td>\n",
       "      <td>25/4/2024 7:53</td>\n",
       "      <td>via Web</td>\n",
       "      <td>Nước dùng trong bát mì hải sản thơm ngon...</td>\n",
       "      <td>https://www.foody.vn/ha-noi/bun-hai-san-68-ngo...</td>\n",
       "    </tr>\n",
       "    <tr>\n",
       "      <th>71173</th>\n",
       "      <td>Lê Văn Việt</td>\n",
       "      <td>https://www.foody.vn/thanh-vien/foodee_0r4xu5o0</td>\n",
       "      <td>https://images.foody.vn/usr/g5561/55605320/avt...</td>\n",
       "      <td>10</td>\n",
       "      <td>24/4/2024 8:47</td>\n",
       "      <td>via Web</td>\n",
       "      <td>Ăn một suất bún chả đặc biệt thoải mái...</td>\n",
       "      <td>https://www.foody.vn/ha-noi/bun-hai-san-68-ngo...</td>\n",
       "    </tr>\n",
       "    <tr>\n",
       "      <th>71174</th>\n",
       "      <td>Đinh Ngọc Minh</td>\n",
       "      <td>https://www.foody.vn/thanh-vien/foodee_i0y0mdkb</td>\n",
       "      <td>https://images.foody.vn/usr/g5560/55598096/avt...</td>\n",
       "      <td>10</td>\n",
       "      <td>23/4/2024 22:17</td>\n",
       "      <td>via Web</td>\n",
       "      <td>Bún hải sản tiêu chuẩn full đồ, hải sản tươi n...</td>\n",
       "      <td>https://www.foody.vn/ha-noi/bun-hai-san-68-ngo...</td>\n",
       "    </tr>\n",
       "    <tr>\n",
       "      <th>71175</th>\n",
       "      <td>Trần Thị Hồng</td>\n",
       "      <td>https://www.foody.vn/thanh-vien/foodee_yyg8dkul</td>\n",
       "      <td>https://images.foody.vn/usr/g5560/55598083/avt...</td>\n",
       "      <td>10</td>\n",
       "      <td>23/4/2024 21:42</td>\n",
       "      <td>via Web</td>\n",
       "      <td>Quan bún hải sản nhưng có cả bún chả ngon tuyệ...</td>\n",
       "      <td>https://www.foody.vn/ha-noi/bun-hai-san-68-ngo...</td>\n",
       "    </tr>\n",
       "    <tr>\n",
       "      <th>71176</th>\n",
       "      <td>Nguyễn Minh Hiền</td>\n",
       "      <td>https://www.foody.vn/thanh-vien/foodee_n9b3ogqw</td>\n",
       "      <td>https://images.foody.vn/usr/g5561/55605092/avt...</td>\n",
       "      <td>10</td>\n",
       "      <td>23/4/2024 20:08</td>\n",
       "      <td>via Web</td>\n",
       "      <td>Bát bún hải sản ở đây nhiều đồ ăn, nước dùng, ...</td>\n",
       "      <td>https://www.foody.vn/ha-noi/bun-hai-san-68-ngo...</td>\n",
       "    </tr>\n",
       "  </tbody>\n",
       "</table>\n",
       "<p>71177 rows × 8 columns</p>\n",
       "</div>"
      ],
      "text/plain": [
       "         Tên người dùng                                     Link profile  \\\n",
       "0                Trà My  https://www.foody.vn/thanh-vien/foodee_s5fjg0b3   \n",
       "1             Hồng Trần  https://www.foody.vn/thanh-vien/foodee_cv6fbdb9   \n",
       "2       foodee_hsr9f2vg  https://www.foody.vn/thanh-vien/foodee_hsr9f2vg   \n",
       "3              Thuý Vân  https://www.foody.vn/thanh-vien/foodee_hgvsse2l   \n",
       "4         Phạm Thị lành  https://www.foody.vn/thanh-vien/foodee_ehidbe1p   \n",
       "...                 ...                                              ...   \n",
       "71172     Đinh Thị Thúy  https://www.foody.vn/thanh-vien/foodee_eq3lyhcv   \n",
       "71173       Lê Văn Việt  https://www.foody.vn/thanh-vien/foodee_0r4xu5o0   \n",
       "71174    Đinh Ngọc Minh  https://www.foody.vn/thanh-vien/foodee_i0y0mdkb   \n",
       "71175     Trần Thị Hồng  https://www.foody.vn/thanh-vien/foodee_yyg8dkul   \n",
       "71176  Nguyễn Minh Hiền  https://www.foody.vn/thanh-vien/foodee_n9b3ogqw   \n",
       "\n",
       "                                                  Avatar Điểm đánh giá  \\\n",
       "0      https://images.foody.vn/usr/g5646/56452113/avt...           5.0   \n",
       "1      https://images.foody.vn/usr/g5646/56450934/avt...            10   \n",
       "2      https://images.foody.vn/default/s40/user-defau...            10   \n",
       "3      https://images.foody.vn/default/s40/user-defau...            10   \n",
       "4      https://images.foody.vn/default/s40/user-defau...            10   \n",
       "...                                                  ...           ...   \n",
       "71172  https://images.foody.vn/usr/g5561/55606506/avt...            10   \n",
       "71173  https://images.foody.vn/usr/g5561/55605320/avt...            10   \n",
       "71174  https://images.foody.vn/usr/g5560/55598096/avt...            10   \n",
       "71175  https://images.foody.vn/usr/g5560/55598083/avt...            10   \n",
       "71176  https://images.foody.vn/usr/g5561/55605092/avt...            10   \n",
       "\n",
       "             Thời gian     Thiết bị  \\\n",
       "0      27/9/2024 18:20  via Android   \n",
       "1      27/9/2024 15:22  via Android   \n",
       "2      26/9/2024 15:27   via iPhone   \n",
       "3      26/9/2024 15:23   via iPhone   \n",
       "4      25/9/2024 16:35  via Android   \n",
       "...                ...          ...   \n",
       "71172   25/4/2024 7:53      via Web   \n",
       "71173   24/4/2024 8:47      via Web   \n",
       "71174  23/4/2024 22:17      via Web   \n",
       "71175  23/4/2024 21:42      via Web   \n",
       "71176  23/4/2024 20:08      via Web   \n",
       "\n",
       "                                      Nội dung bình luận  \\\n",
       "0                                                  5 sao   \n",
       "1               Đồ ăn ngon hợp vệ sinh giá cả phải chăng   \n",
       "2             đồ ăn ngon ,nhân viên phục vụ nhiệt tình ạ   \n",
       "3      Không gian thoáng, sạch đệp, nhân viên lịch sự...   \n",
       "4                                 Dịch vụ rất tốt rất ok   \n",
       "...                                                  ...   \n",
       "71172  Nước dùng trong bát mì hải sản thơm ngon...   \n",
       "71173  Ăn một suất bún chả đặc biệt thoải mái...   \n",
       "71174  Bún hải sản tiêu chuẩn full đồ, hải sản tươi n...   \n",
       "71175  Quan bún hải sản nhưng có cả bún chả ngon tuyệ...   \n",
       "71176  Bát bún hải sản ở đây nhiều đồ ăn, nước dùng, ...   \n",
       "\n",
       "                                               Link quán  \n",
       "0        https://www.foody.vn/ha-noi/jacksons-steakhouse  \n",
       "1        https://www.foody.vn/ha-noi/jacksons-steakhouse  \n",
       "2        https://www.foody.vn/ha-noi/jacksons-steakhouse  \n",
       "3        https://www.foody.vn/ha-noi/jacksons-steakhouse  \n",
       "4        https://www.foody.vn/ha-noi/jacksons-steakhouse  \n",
       "...                                                  ...  \n",
       "71172  https://www.foody.vn/ha-noi/bun-hai-san-68-ngo...  \n",
       "71173  https://www.foody.vn/ha-noi/bun-hai-san-68-ngo...  \n",
       "71174  https://www.foody.vn/ha-noi/bun-hai-san-68-ngo...  \n",
       "71175  https://www.foody.vn/ha-noi/bun-hai-san-68-ngo...  \n",
       "71176  https://www.foody.vn/ha-noi/bun-hai-san-68-ngo...  \n",
       "\n",
       "[71177 rows x 8 columns]"
      ]
     },
     "execution_count": 40,
     "metadata": {},
     "output_type": "execute_result"
    }
   ],
   "source": [
    "df_user"
   ]
  },
  {
   "cell_type": "markdown",
   "metadata": {},
   "source": [
    "# Làm sạch dữ liệu"
   ]
  },
  {
   "cell_type": "markdown",
   "metadata": {},
   "source": [
    "### Kiểm tra lỗi trùng lặp"
   ]
  },
  {
   "cell_type": "code",
   "execution_count": 41,
   "metadata": {},
   "outputs": [
    {
     "name": "stdout",
     "output_type": "stream",
     "text": [
      "Dữ liệu có số bản ghi trùng lặp là: 13919\n"
     ]
    }
   ],
   "source": [
    "print(\"Dữ liệu có số bản ghi trùng lặp là:\", df_user.duplicated().sum())"
   ]
  },
  {
   "cell_type": "code",
   "execution_count": 42,
   "metadata": {},
   "outputs": [],
   "source": [
    "# Thực hiện xóa các bản ghi trùng lặp này: \n",
    "df_user.drop_duplicates(inplace= True)"
   ]
  },
  {
   "cell_type": "markdown",
   "metadata": {},
   "source": [
    "### Kiểm tra lỗi trùng lặp dữ liệu"
   ]
  },
  {
   "cell_type": "code",
   "execution_count": 43,
   "metadata": {},
   "outputs": [
    {
     "data": {
      "text/plain": [
       "Tên người dùng         0\n",
       "Link profile           0\n",
       "Avatar                 0\n",
       "Điểm đánh giá          2\n",
       "Thời gian             17\n",
       "Thiết bị               0\n",
       "Nội dung bình luận     0\n",
       "Link quán              0\n",
       "dtype: int64"
      ]
     },
     "execution_count": 43,
     "metadata": {},
     "output_type": "execute_result"
    }
   ],
   "source": [
    "df_user.isna().sum()"
   ]
  },
  {
   "cell_type": "code",
   "execution_count": 44,
   "metadata": {},
   "outputs": [
    {
     "name": "stderr",
     "output_type": "stream",
     "text": [
      "C:\\Users\\Admin\\AppData\\Local\\Temp\\ipykernel_21768\\2063687790.py:1: FutureWarning: A value is trying to be set on a copy of a DataFrame or Series through chained assignment using an inplace method.\n",
      "The behavior will change in pandas 3.0. This inplace method will never work because the intermediate object on which we are setting values always behaves as a copy.\n",
      "\n",
      "For example, when doing 'df[col].method(value, inplace=True)', try using 'df.method({col: value}, inplace=True)' or df[col] = df[col].method(value) instead, to perform the operation inplace on the original object.\n",
      "\n",
      "\n",
      "  df_user[\"Điểm đánh giá\"].fillna(5, inplace= True)\n"
     ]
    }
   ],
   "source": [
    "df_user[\"Điểm đánh giá\"].fillna(5, inplace= True)"
   ]
  },
  {
   "cell_type": "code",
   "execution_count": 45,
   "metadata": {},
   "outputs": [
    {
     "data": {
      "text/plain": [
       "['Tên người dùng',\n",
       " 'Link profile',\n",
       " 'Avatar',\n",
       " 'Điểm đánh giá',\n",
       " 'Thời gian',\n",
       " 'Thiết bị',\n",
       " 'Nội dung bình luận',\n",
       " 'Link quán']"
      ]
     },
     "execution_count": 45,
     "metadata": {},
     "output_type": "execute_result"
    }
   ],
   "source": [
    "df_user.columns.to_list()"
   ]
  },
  {
   "cell_type": "code",
   "execution_count": 46,
   "metadata": {},
   "outputs": [
    {
     "name": "stdout",
     "output_type": "stream",
     "text": [
      "<class 'pandas.core.frame.DataFrame'>\n",
      "Index: 57258 entries, 0 to 57614\n",
      "Data columns (total 8 columns):\n",
      " #   Column              Non-Null Count  Dtype \n",
      "---  ------              --------------  ----- \n",
      " 0   Tên người dùng      57258 non-null  object\n",
      " 1   Link profile        57258 non-null  object\n",
      " 2   Avatar              57258 non-null  object\n",
      " 3   Điểm đánh giá       57258 non-null  object\n",
      " 4   Thời gian           57241 non-null  object\n",
      " 5   Thiết bị            57258 non-null  object\n",
      " 6   Nội dung bình luận  57258 non-null  object\n",
      " 7   Link quán           57258 non-null  object\n",
      "dtypes: object(8)\n",
      "memory usage: 3.9+ MB\n"
     ]
    }
   ],
   "source": [
    "df_user.info()"
   ]
  },
  {
   "cell_type": "markdown",
   "metadata": {},
   "source": [
    "### Chọn các cột cần thiết cho việc xây dựng model."
   ]
  },
  {
   "cell_type": "code",
   "execution_count": 47,
   "metadata": {},
   "outputs": [],
   "source": [
    "df_user['user_id'] = df_user.groupby(['Tên người dùng', 'Link profile']).ngroup() + 1\n"
   ]
  },
  {
   "cell_type": "code",
   "execution_count": 48,
   "metadata": {},
   "outputs": [],
   "source": [
    "def preprocess_user_ratings(df_user_ratings):\n",
    "    \"\"\"\n",
    "    Tiền xử lý dữ liệu đánh giá của người dùng để phù hợp với hệ thống khuyến nghị.\n",
    "    \n",
    "    Args:\n",
    "        df_user_ratings: DataFrame gốc.\n",
    "\n",
    "    Returns:\n",
    "        DataFrame đã tiền xử lý.\n",
    "    \"\"\"\n",
    "    # Chọn các cột cần thiết\n",
    "    df_cleaned = df_user_ratings[[\"user_id\", \"Tên người dùng\", \"Điểm đánh giá\", \"Nội dung bình luận\", \"Link quán\"]].copy()\n",
    "\n",
    "    # Chuyển \"Điểm đánh giá\" sang kiểu số, giữ nguyên giá trị\n",
    "    df_cleaned[\"Điểm đánh giá\"] = pd.to_numeric(df_cleaned[\"Điểm đánh giá\"], errors='coerce')\n",
    "\n",
    "    # Xóa khoảng trắng, ký tự đặc biệt trong bình luận\n",
    "    df_cleaned[\"Nội dung bình luận\"] = df_cleaned[\"Nội dung bình luận\"].astype(str).str.replace(\n",
    "        r\"[^a-zA-Z0-9\\sàáạãảâầấậẫẩăằắặẵẳèéẹẽẻêềếệễểìíịĩỉòóọõỏôồốộỗổơờớợỡởùúụũủưừứựữửỳýỵỹỷđ]\", \"\", regex=True\n",
    "    )\n",
    "\n",
    "    return df_cleaned"
   ]
  },
  {
   "cell_type": "code",
   "execution_count": 49,
   "metadata": {},
   "outputs": [],
   "source": [
    "df_cleaned = preprocess_user_ratings(df_user)\n"
   ]
  },
  {
   "cell_type": "code",
   "execution_count": 50,
   "metadata": {},
   "outputs": [
    {
     "data": {
      "text/html": [
       "<div>\n",
       "<style scoped>\n",
       "    .dataframe tbody tr th:only-of-type {\n",
       "        vertical-align: middle;\n",
       "    }\n",
       "\n",
       "    .dataframe tbody tr th {\n",
       "        vertical-align: top;\n",
       "    }\n",
       "\n",
       "    .dataframe thead th {\n",
       "        text-align: right;\n",
       "    }\n",
       "</style>\n",
       "<table border=\"1\" class=\"dataframe\">\n",
       "  <thead>\n",
       "    <tr style=\"text-align: right;\">\n",
       "      <th></th>\n",
       "      <th>user_id</th>\n",
       "      <th>Tên người dùng</th>\n",
       "      <th>Điểm đánh giá</th>\n",
       "      <th>Nội dung bình luận</th>\n",
       "      <th>Link quán</th>\n",
       "    </tr>\n",
       "  </thead>\n",
       "  <tbody>\n",
       "    <tr>\n",
       "      <th>0</th>\n",
       "      <td>14431</td>\n",
       "      <td>Trà My</td>\n",
       "      <td>5.0</td>\n",
       "      <td>5 sao</td>\n",
       "      <td>https://www.foody.vn/ha-noi/jacksons-steakhouse</td>\n",
       "    </tr>\n",
       "    <tr>\n",
       "      <th>1</th>\n",
       "      <td>4982</td>\n",
       "      <td>Hồng Trần</td>\n",
       "      <td>10.0</td>\n",
       "      <td>ồ ăn ngon hợp vệ sinh giá cả phải chăng</td>\n",
       "      <td>https://www.foody.vn/ha-noi/jacksons-steakhouse</td>\n",
       "    </tr>\n",
       "    <tr>\n",
       "      <th>2</th>\n",
       "      <td>17383</td>\n",
       "      <td>foodee_hsr9f2vg</td>\n",
       "      <td>10.0</td>\n",
       "      <td>đồ ăn ngon nhân viên phục vụ nhiệt tình ạ</td>\n",
       "      <td>https://www.foody.vn/ha-noi/jacksons-steakhouse</td>\n",
       "    </tr>\n",
       "    <tr>\n",
       "      <th>3</th>\n",
       "      <td>13106</td>\n",
       "      <td>Thuý Vân</td>\n",
       "      <td>10.0</td>\n",
       "      <td>Không gian thoáng sạch đệp nhân viên lịch sự n...</td>\n",
       "      <td>https://www.foody.vn/ha-noi/jacksons-steakhouse</td>\n",
       "    </tr>\n",
       "    <tr>\n",
       "      <th>4</th>\n",
       "      <td>11415</td>\n",
       "      <td>Phạm Thị lành</td>\n",
       "      <td>10.0</td>\n",
       "      <td>Dịch vụ rất tốt rất ok</td>\n",
       "      <td>https://www.foody.vn/ha-noi/jacksons-steakhouse</td>\n",
       "    </tr>\n",
       "    <tr>\n",
       "      <th>...</th>\n",
       "      <td>...</td>\n",
       "      <td>...</td>\n",
       "      <td>...</td>\n",
       "      <td>...</td>\n",
       "      <td>...</td>\n",
       "    </tr>\n",
       "    <tr>\n",
       "      <th>57610</th>\n",
       "      <td>11032</td>\n",
       "      <td>Phương Mai</td>\n",
       "      <td>2.6</td>\n",
       "      <td>đặt súp cua to trên now lúc nhận mở ra hộp bé ...</td>\n",
       "      <td>https://www.foody.vn/ha-noi/ty-be-sup-cua</td>\n",
       "    </tr>\n",
       "    <tr>\n",
       "      <th>57611</th>\n",
       "      <td>13714</td>\n",
       "      <td>Thủy  Châu</td>\n",
       "      <td>5.0</td>\n",
       "      <td>bị nghiện mất rùi súp cua ngon tuyệt bà chủ lạ...</td>\n",
       "      <td>https://www.foody.vn/ha-noi/ty-be-sup-cua</td>\n",
       "    </tr>\n",
       "    <tr>\n",
       "      <th>57612</th>\n",
       "      <td>961</td>\n",
       "      <td>Bảo Linh</td>\n",
       "      <td>9.4</td>\n",
       "      <td>Trân châu ko bị cứng mặc dù mua về mình chưa ă...</td>\n",
       "      <td>https://www.foody.vn/ha-noi/bep-cua-vun-banh-b...</td>\n",
       "    </tr>\n",
       "    <tr>\n",
       "      <th>57613</th>\n",
       "      <td>930</td>\n",
       "      <td>Bạch Tuyết</td>\n",
       "      <td>7.4</td>\n",
       "      <td>Bếp của Vụn</td>\n",
       "      <td>https://www.foody.vn/ha-noi/bep-cua-vun-banh-b...</td>\n",
       "    </tr>\n",
       "    <tr>\n",
       "      <th>57614</th>\n",
       "      <td>11608</td>\n",
       "      <td>Queen Bee</td>\n",
       "      <td>9.6</td>\n",
       "      <td>Bánh nào độ ngọt cũng cực cực vừa khách ruột 2...</td>\n",
       "      <td>https://www.foody.vn/ha-noi/bep-cua-vun-banh-b...</td>\n",
       "    </tr>\n",
       "  </tbody>\n",
       "</table>\n",
       "<p>57258 rows × 5 columns</p>\n",
       "</div>"
      ],
      "text/plain": [
       "       user_id   Tên người dùng  Điểm đánh giá  \\\n",
       "0        14431           Trà My            5.0   \n",
       "1         4982        Hồng Trần           10.0   \n",
       "2        17383  foodee_hsr9f2vg           10.0   \n",
       "3        13106         Thuý Vân           10.0   \n",
       "4        11415    Phạm Thị lành           10.0   \n",
       "...        ...              ...            ...   \n",
       "57610    11032       Phương Mai            2.6   \n",
       "57611    13714       Thủy  Châu            5.0   \n",
       "57612      961         Bảo Linh            9.4   \n",
       "57613      930       Bạch Tuyết            7.4   \n",
       "57614    11608        Queen Bee            9.6   \n",
       "\n",
       "                                      Nội dung bình luận  \\\n",
       "0                                                  5 sao   \n",
       "1                ồ ăn ngon hợp vệ sinh giá cả phải chăng   \n",
       "2              đồ ăn ngon nhân viên phục vụ nhiệt tình ạ   \n",
       "3      Không gian thoáng sạch đệp nhân viên lịch sự n...   \n",
       "4                                 Dịch vụ rất tốt rất ok   \n",
       "...                                                  ...   \n",
       "57610  đặt súp cua to trên now lúc nhận mở ra hộp bé ...   \n",
       "57611  bị nghiện mất rùi súp cua ngon tuyệt bà chủ lạ...   \n",
       "57612  Trân châu ko bị cứng mặc dù mua về mình chưa ă...   \n",
       "57613                                        Bếp của Vụn   \n",
       "57614  Bánh nào độ ngọt cũng cực cực vừa khách ruột 2...   \n",
       "\n",
       "                                               Link quán  \n",
       "0        https://www.foody.vn/ha-noi/jacksons-steakhouse  \n",
       "1        https://www.foody.vn/ha-noi/jacksons-steakhouse  \n",
       "2        https://www.foody.vn/ha-noi/jacksons-steakhouse  \n",
       "3        https://www.foody.vn/ha-noi/jacksons-steakhouse  \n",
       "4        https://www.foody.vn/ha-noi/jacksons-steakhouse  \n",
       "...                                                  ...  \n",
       "57610          https://www.foody.vn/ha-noi/ty-be-sup-cua  \n",
       "57611          https://www.foody.vn/ha-noi/ty-be-sup-cua  \n",
       "57612  https://www.foody.vn/ha-noi/bep-cua-vun-banh-b...  \n",
       "57613  https://www.foody.vn/ha-noi/bep-cua-vun-banh-b...  \n",
       "57614  https://www.foody.vn/ha-noi/bep-cua-vun-banh-b...  \n",
       "\n",
       "[57258 rows x 5 columns]"
      ]
     },
     "execution_count": 50,
     "metadata": {},
     "output_type": "execute_result"
    }
   ],
   "source": [
    "df_cleaned"
   ]
  },
  {
   "cell_type": "markdown",
   "metadata": {},
   "source": [
    "### Kiểm tra các spam và không đồng bộ điểm đánh giá"
   ]
  },
  {
   "cell_type": "markdown",
   "metadata": {},
   "source": [
    "### Kiểm tra dữ liệu spam"
   ]
  },
  {
   "cell_type": "markdown",
   "metadata": {},
   "source": [
    "- Quy trình kiểm tra một bình luận có phải là spam trong đánh giá quán ăn\n",
    "\n",
    "  - Mục đích:\n",
    "    - Lọc ra các bình luận thiếu giá trị thực tế, sáo rỗng hoặc có dấu hiệu spam.\n",
    "    - Đảm bảo chất lượng đầu vào cho hệ thống khuyến nghị quán ăn.\n",
    "\n",
    "  - Bước 1: Kiểm tra độ dài bình luận\n",
    "    - Nếu bình luận chứa ít hơn 5 từ:\n",
    "      - Có khả năng là spam hoặc thiếu thông tin hữu ích.\n",
    "      - Ví dụ: \"ngon\", \"rất tốt\", \"quá ok\".\n",
    "\n",
    "  - Bước 2: Kiểm tra sự xuất hiện của từ khóa sáo rỗng\n",
    "    - Các cụm từ cảm tính, không cụ thể bao gồm:\n",
    "      - \"5 sao\", \"10 điểm\", \"quá ok\", \"ngon quá\", \"tốt lắm\", \"tuyệt vời\", \"đáng tiền\", \"rất ổn\".\n",
    "    - Nếu các từ này xuất hiện trong bình luận có độ dài dưới 10 từ:\n",
    "      - Coi là bình luận không mang nhiều thông tin mô tả thực tế.\n",
    "      - Có thể là spam.\n",
    "\n",
    "  - Bước 3: Kiểm tra tính trùng lặp nội dung\n",
    "    - Nếu nội dung bình luận giống hệt và xuất hiện:\n",
    "      - Từ nhiều người dùng khác nhau, hoặc\n",
    "      - Lặp lại nhiều lần từ cùng một người dùng.\n",
    "    - Có thể là spam tự động, copy-paste hoặc chiến dịch đánh giá ảo.\n",
    "\n",
    "  - Hành động xử lý:\n",
    "    - Nếu bình luận vi phạm từ 2 trong 3 tiêu chí trên:\n",
    "      - Đánh dấu là spam.\n",
    "      - Loại bỏ khỏi tập dữ liệu huấn luyện mô hình.\n"
   ]
  },
  {
   "cell_type": "code",
   "execution_count": null,
   "metadata": {},
   "outputs": [],
   "source": [
    "SPAM_KEYWORDS = [\n",
    "    \"5 sao\", \"10 điểm\", \"quá ok\", \"ngon quá\", \"tốt lắm\", \"tuyệt vời\",\n",
    "    \"đáng tiền\", \"rất ổn\", \"xuất sắc\", \"ổn áp\", \"ổn lắm\", \"ngon xuất sắc\",\n",
    "    \"không tệ\", \"ngon bổ rẻ\", \"khá ổn\", \"rẻ mà ngon\", \"rất ngon\", \"hợp khẩu vị\",\n",
    "    \"siêu ngon\", \"siêu rẻ\", \"đỉnh cao\", \"ngon khỏi chê\", \"trên cả tuyệt vời\",\n",
    "    \"ok lắm\", \"ưng lắm\", \"hợp lý\", \"ổn mà\", \"ngon thế\", \"tốt ghê\", \"ăn là ghiền\",\n",
    "    \"ăn là mê\", \"ăn là nghiện\", \"đáng thử\", \"đáng đồng tiền\", \"quá đáng yêu\",\n",
    "    \"quá ngon\", \"khá ngon\", \"quá tuyệt\", \"đỉnh của chóp\", \"ngon mê ly\",\n",
    "    \"ngon bá cháy\", \"rất ok\", \"nên thử\", \"ngon vl\", \"tuyệt vời ông mặt trời\",\n",
    "    \"ngon thật sự\", \"ăn ngon tuyệt\", \"quán ruột\", \"ghé suốt\", \"sẽ quay lại\",\n",
    "    \"cực ngon\", \"cực mê\", \"ăn là muốn quay lại\", \"siêu siêu ngon\", \"mê chữ ê kéo dài\"\n",
    "]\n",
    "\n",
    "def get_suspected_spam(df, comment_col='Nội dung bình luận'):\n",
    "    word_counts = df[comment_col].apply(lambda x: len(str(x).split()) if pd.notna(x) else 0)\n",
    "\n",
    "    contains_spam_keyword = df[comment_col].apply(\n",
    "        lambda x: any(kw in str(x).lower() for kw in SPAM_KEYWORDS) if pd.notna(x) else False\n",
    "    )\n",
    "    short_and_weak = (word_counts < 10) & contains_spam_keyword\n",
    "\n",
    "    very_short = word_counts < 5\n",
    "\n",
    "    duplicated = df.duplicated(subset=[comment_col], keep=False)\n",
    "\n",
    "    violation_counts = very_short.astype(int) + short_and_weak.astype(int) + duplicated.astype(int)\n",
    "\n",
    "    suspected = df[violation_counts >= 2].copy()\n",
    "    return suspected.reset_index(drop=True)"
   ]
  },
  {
   "cell_type": "code",
   "execution_count": 52,
   "metadata": {},
   "outputs": [],
   "source": [
    "spam_suspects = get_suspected_spam(df_cleaned)"
   ]
  },
  {
   "cell_type": "code",
   "execution_count": 53,
   "metadata": {},
   "outputs": [
    {
     "data": {
      "text/html": [
       "<div>\n",
       "<style scoped>\n",
       "    .dataframe tbody tr th:only-of-type {\n",
       "        vertical-align: middle;\n",
       "    }\n",
       "\n",
       "    .dataframe tbody tr th {\n",
       "        vertical-align: top;\n",
       "    }\n",
       "\n",
       "    .dataframe thead th {\n",
       "        text-align: right;\n",
       "    }\n",
       "</style>\n",
       "<table border=\"1\" class=\"dataframe\">\n",
       "  <thead>\n",
       "    <tr style=\"text-align: right;\">\n",
       "      <th></th>\n",
       "      <th>user_id</th>\n",
       "      <th>Tên người dùng</th>\n",
       "      <th>Điểm đánh giá</th>\n",
       "      <th>Nội dung bình luận</th>\n",
       "      <th>Link quán</th>\n",
       "    </tr>\n",
       "  </thead>\n",
       "  <tbody>\n",
       "    <tr>\n",
       "      <th>20</th>\n",
       "      <td>899</td>\n",
       "      <td>Bùi thị Thuy</td>\n",
       "      <td>5.0</td>\n",
       "      <td>Tốt</td>\n",
       "      <td>https://www.foody.vn/ha-noi/jacksons-steakhouse</td>\n",
       "    </tr>\n",
       "    <tr>\n",
       "      <th>21</th>\n",
       "      <td>12466</td>\n",
       "      <td>Thanh Lam Nguyễn</td>\n",
       "      <td>10.0</td>\n",
       "      <td>Dịch vụ tốt</td>\n",
       "      <td>https://www.foody.vn/ha-noi/jacksons-steakhouse</td>\n",
       "    </tr>\n",
       "    <tr>\n",
       "      <th>22</th>\n",
       "      <td>17436</td>\n",
       "      <td>foodee_l0bqk5v9</td>\n",
       "      <td>10.0</td>\n",
       "      <td>Tot</td>\n",
       "      <td>https://www.foody.vn/ha-noi/jacksons-steakhouse</td>\n",
       "    </tr>\n",
       "    <tr>\n",
       "      <th>23</th>\n",
       "      <td>18909</td>\n",
       "      <td>ngọc ny</td>\n",
       "      <td>5.0</td>\n",
       "      <td>Dịch vụ rất tốt</td>\n",
       "      <td>https://www.foody.vn/ha-noi/jacksons-steakhouse</td>\n",
       "    </tr>\n",
       "    <tr>\n",
       "      <th>24</th>\n",
       "      <td>10426</td>\n",
       "      <td>Nông Lan</td>\n",
       "      <td>5.0</td>\n",
       "      <td>Rất hài lòng</td>\n",
       "      <td>https://www.foody.vn/ha-noi/jacksons-steakhouse</td>\n",
       "    </tr>\n",
       "    <tr>\n",
       "      <th>25</th>\n",
       "      <td>14735</td>\n",
       "      <td>Trần Thanh Hương</td>\n",
       "      <td>5.0</td>\n",
       "      <td>Ngon quá</td>\n",
       "      <td>https://www.foody.vn/ha-noi/jacksons-steakhouse</td>\n",
       "    </tr>\n",
       "    <tr>\n",
       "      <th>26</th>\n",
       "      <td>18719</td>\n",
       "      <td>namnhi</td>\n",
       "      <td>5.0</td>\n",
       "      <td>tot</td>\n",
       "      <td>https://www.foody.vn/ha-noi/jacksons-steakhouse</td>\n",
       "    </tr>\n",
       "    <tr>\n",
       "      <th>27</th>\n",
       "      <td>9295</td>\n",
       "      <td>Nguyễn Thu Hòa</td>\n",
       "      <td>5.0</td>\n",
       "      <td>Tốt</td>\n",
       "      <td>https://www.foody.vn/ha-noi/jacksons-steakhouse</td>\n",
       "    </tr>\n",
       "    <tr>\n",
       "      <th>28</th>\n",
       "      <td>12604</td>\n",
       "      <td>ThanhBinh</td>\n",
       "      <td>5.0</td>\n",
       "      <td>Tuyệt vời</td>\n",
       "      <td>https://www.foody.vn/ha-noi/jacksons-steakhouse</td>\n",
       "    </tr>\n",
       "    <tr>\n",
       "      <th>29</th>\n",
       "      <td>1393</td>\n",
       "      <td>Claire Hồng</td>\n",
       "      <td>5.0</td>\n",
       "      <td>Tốt</td>\n",
       "      <td>https://www.foody.vn/ha-noi/jacksons-steakhouse</td>\n",
       "    </tr>\n",
       "    <tr>\n",
       "      <th>30</th>\n",
       "      <td>17538</td>\n",
       "      <td>foodee_rtjb9xfz</td>\n",
       "      <td>8.2</td>\n",
       "      <td>ánh giá tốt</td>\n",
       "      <td>https://www.foody.vn/ha-noi/jacksons-steakhouse</td>\n",
       "    </tr>\n",
       "    <tr>\n",
       "      <th>31</th>\n",
       "      <td>17481</td>\n",
       "      <td>foodee_nt57ybkx</td>\n",
       "      <td>5.0</td>\n",
       "      <td>ồ ăn ngon</td>\n",
       "      <td>https://www.foody.vn/ha-noi/jacksons-steakhouse</td>\n",
       "    </tr>\n",
       "    <tr>\n",
       "      <th>32</th>\n",
       "      <td>19680</td>\n",
       "      <td>trinh</td>\n",
       "      <td>10.0</td>\n",
       "      <td>Tốt</td>\n",
       "      <td>https://www.foody.vn/ha-noi/jacksons-steakhouse</td>\n",
       "    </tr>\n",
       "    <tr>\n",
       "      <th>33</th>\n",
       "      <td>17631</td>\n",
       "      <td>foodee_z341lsuu</td>\n",
       "      <td>5.0</td>\n",
       "      <td>Tốt</td>\n",
       "      <td>https://www.foody.vn/ha-noi/jacksons-steakhouse</td>\n",
       "    </tr>\n",
       "    <tr>\n",
       "      <th>34</th>\n",
       "      <td>17448</td>\n",
       "      <td>foodee_lecpgl5y</td>\n",
       "      <td>5.0</td>\n",
       "      <td>Tốt</td>\n",
       "      <td>https://www.foody.vn/ha-noi/jacksons-steakhouse</td>\n",
       "    </tr>\n",
       "    <tr>\n",
       "      <th>35</th>\n",
       "      <td>14621</td>\n",
       "      <td>Trần Huế</td>\n",
       "      <td>5.0</td>\n",
       "      <td>Phục vụ tốt</td>\n",
       "      <td>https://www.foody.vn/ha-noi/jacksons-steakhouse</td>\n",
       "    </tr>\n",
       "    <tr>\n",
       "      <th>36</th>\n",
       "      <td>13490</td>\n",
       "      <td>Thảo Hoài</td>\n",
       "      <td>10.0</td>\n",
       "      <td>Phục vụ tốt</td>\n",
       "      <td>https://www.foody.vn/ha-noi/jacksons-steakhouse</td>\n",
       "    </tr>\n",
       "    <tr>\n",
       "      <th>37</th>\n",
       "      <td>14497</td>\n",
       "      <td>Trân Nguyễn</td>\n",
       "      <td>5.0</td>\n",
       "      <td>Tuyệt vời</td>\n",
       "      <td>https://www.foody.vn/ha-noi/jacksons-steakhouse</td>\n",
       "    </tr>\n",
       "    <tr>\n",
       "      <th>38</th>\n",
       "      <td>17298</td>\n",
       "      <td>foodee_dqxmo3di</td>\n",
       "      <td>10.0</td>\n",
       "      <td>Tốt</td>\n",
       "      <td>https://www.foody.vn/ha-noi/jacksons-steakhouse</td>\n",
       "    </tr>\n",
       "    <tr>\n",
       "      <th>39</th>\n",
       "      <td>7791</td>\n",
       "      <td>Minh Thu Nguyen</td>\n",
       "      <td>5.0</td>\n",
       "      <td>Khá là ấn tượng</td>\n",
       "      <td>https://www.foody.vn/ha-noi/salmonoid-cao-ba-quat</td>\n",
       "    </tr>\n",
       "  </tbody>\n",
       "</table>\n",
       "</div>"
      ],
      "text/plain": [
       "    user_id    Tên người dùng  Điểm đánh giá Nội dung bình luận  \\\n",
       "20      899      Bùi thị Thuy            5.0                Tốt   \n",
       "21    12466  Thanh Lam Nguyễn           10.0        Dịch vụ tốt   \n",
       "22    17436   foodee_l0bqk5v9           10.0                Tot   \n",
       "23    18909           ngọc ny            5.0    Dịch vụ rất tốt   \n",
       "24    10426          Nông Lan            5.0       Rất hài lòng   \n",
       "25    14735  Trần Thanh Hương            5.0           Ngon quá   \n",
       "26    18719            namnhi            5.0                tot   \n",
       "27     9295    Nguyễn Thu Hòa            5.0                Tốt   \n",
       "28    12604         ThanhBinh            5.0          Tuyệt vời   \n",
       "29     1393       Claire Hồng            5.0                Tốt   \n",
       "30    17538   foodee_rtjb9xfz            8.2        ánh giá tốt   \n",
       "31    17481   foodee_nt57ybkx            5.0          ồ ăn ngon   \n",
       "32    19680             trinh           10.0                Tốt   \n",
       "33    17631   foodee_z341lsuu            5.0                Tốt   \n",
       "34    17448   foodee_lecpgl5y            5.0                Tốt   \n",
       "35    14621          Trần Huế            5.0        Phục vụ tốt   \n",
       "36    13490         Thảo Hoài           10.0        Phục vụ tốt   \n",
       "37    14497       Trân Nguyễn            5.0          Tuyệt vời   \n",
       "38    17298   foodee_dqxmo3di           10.0                Tốt   \n",
       "39     7791   Minh Thu Nguyen            5.0    Khá là ấn tượng   \n",
       "\n",
       "                                            Link quán  \n",
       "20    https://www.foody.vn/ha-noi/jacksons-steakhouse  \n",
       "21    https://www.foody.vn/ha-noi/jacksons-steakhouse  \n",
       "22    https://www.foody.vn/ha-noi/jacksons-steakhouse  \n",
       "23    https://www.foody.vn/ha-noi/jacksons-steakhouse  \n",
       "24    https://www.foody.vn/ha-noi/jacksons-steakhouse  \n",
       "25    https://www.foody.vn/ha-noi/jacksons-steakhouse  \n",
       "26    https://www.foody.vn/ha-noi/jacksons-steakhouse  \n",
       "27    https://www.foody.vn/ha-noi/jacksons-steakhouse  \n",
       "28    https://www.foody.vn/ha-noi/jacksons-steakhouse  \n",
       "29    https://www.foody.vn/ha-noi/jacksons-steakhouse  \n",
       "30    https://www.foody.vn/ha-noi/jacksons-steakhouse  \n",
       "31    https://www.foody.vn/ha-noi/jacksons-steakhouse  \n",
       "32    https://www.foody.vn/ha-noi/jacksons-steakhouse  \n",
       "33    https://www.foody.vn/ha-noi/jacksons-steakhouse  \n",
       "34    https://www.foody.vn/ha-noi/jacksons-steakhouse  \n",
       "35    https://www.foody.vn/ha-noi/jacksons-steakhouse  \n",
       "36    https://www.foody.vn/ha-noi/jacksons-steakhouse  \n",
       "37    https://www.foody.vn/ha-noi/jacksons-steakhouse  \n",
       "38    https://www.foody.vn/ha-noi/jacksons-steakhouse  \n",
       "39  https://www.foody.vn/ha-noi/salmonoid-cao-ba-quat  "
      ]
     },
     "execution_count": 53,
     "metadata": {},
     "output_type": "execute_result"
    }
   ],
   "source": [
    "spam_suspects.iloc[20:40]"
   ]
  },
  {
   "cell_type": "markdown",
   "metadata": {},
   "source": [
    "- Vì các dòng này có dấu hiệu spam vì thế tôi sẽ thực hiện việc xóa dữ liệu đi"
   ]
  },
  {
   "cell_type": "code",
   "execution_count": 55,
   "metadata": {},
   "outputs": [
    {
     "name": "stdout",
     "output_type": "stream",
     "text": [
      "Số dòng sau khi loại bỏ spam: 55054\n"
     ]
    }
   ],
   "source": [
    "# Xóa các dòng trùng lặp nghi ngờ spam khỏi df_clean\n",
    "df_clean_final = df_cleaned[~df_cleaned.index.isin(spam_suspects.index)].copy()\n",
    "\n",
    "# Reset lại index sau khi lọc\n",
    "df_clean_final = df_clean_final.reset_index(drop=True)\n",
    "\n",
    "# Kiểm tra kết quả\n",
    "print(f\"Số dòng sau khi loại bỏ spam: {df_clean_final.shape[0]}\")\n"
   ]
  },
  {
   "cell_type": "markdown",
   "metadata": {},
   "source": [
    "### Kiểm tra xem có bị đánh nhầm điểm số không"
   ]
  },
  {
   "cell_type": "code",
   "execution_count": 65,
   "metadata": {},
   "outputs": [],
   "source": [
    "def filter_short_comments_with_sao(df, comment_col='Nội dung bình luận'):\n",
    "    df_filtered = df[df[comment_col].apply(lambda x: isinstance(x, str) and 'sao' in x.lower() and len(x.split()) < 10)]\n",
    "    return df_filtered.reset_index(drop=True)"
   ]
  },
  {
   "cell_type": "code",
   "execution_count": 68,
   "metadata": {},
   "outputs": [
    {
     "data": {
      "text/html": [
       "<div>\n",
       "<style scoped>\n",
       "    .dataframe tbody tr th:only-of-type {\n",
       "        vertical-align: middle;\n",
       "    }\n",
       "\n",
       "    .dataframe tbody tr th {\n",
       "        vertical-align: top;\n",
       "    }\n",
       "\n",
       "    .dataframe thead th {\n",
       "        text-align: right;\n",
       "    }\n",
       "</style>\n",
       "<table border=\"1\" class=\"dataframe\">\n",
       "  <thead>\n",
       "    <tr style=\"text-align: right;\">\n",
       "      <th></th>\n",
       "      <th>user_id</th>\n",
       "      <th>Tên người dùng</th>\n",
       "      <th>Điểm đánh giá</th>\n",
       "      <th>Nội dung bình luận</th>\n",
       "      <th>Link quán</th>\n",
       "    </tr>\n",
       "  </thead>\n",
       "  <tbody>\n",
       "    <tr>\n",
       "      <th>0</th>\n",
       "      <td>4063</td>\n",
       "      <td>Hà  Châu</td>\n",
       "      <td>9.2</td>\n",
       "      <td>Quán làm ngon bảo sao đông thật đấy</td>\n",
       "      <td>https://www.foody.vn/ha-noi/bun-cha-ba-mau-hoa...</td>\n",
       "    </tr>\n",
       "    <tr>\n",
       "      <th>1</th>\n",
       "      <td>5647</td>\n",
       "      <td>Lady  Nguyễn</td>\n",
       "      <td>9.8</td>\n",
       "      <td>Ngon béo không bị khô 5 sao</td>\n",
       "      <td>https://www.foody.vn/ha-noi/vit-quay-tai-vinh-...</td>\n",
       "    </tr>\n",
       "    <tr>\n",
       "      <th>2</th>\n",
       "      <td>6853</td>\n",
       "      <td>Lê Mai  Chuyên</td>\n",
       "      <td>9.2</td>\n",
       "      <td>Quán làm ngon bảo sao đông thật đấy</td>\n",
       "      <td>https://www.foody.vn/ha-noi/bun-cha-que-tre-ph...</td>\n",
       "    </tr>\n",
       "    <tr>\n",
       "      <th>3</th>\n",
       "      <td>18096</td>\n",
       "      <td>ivl5aa89yz</td>\n",
       "      <td>6.0</td>\n",
       "      <td>5 sao ạ</td>\n",
       "      <td>https://www.foody.vn/ha-noi/le-jardin-restaura...</td>\n",
       "    </tr>\n",
       "    <tr>\n",
       "      <th>4</th>\n",
       "      <td>15903</td>\n",
       "      <td>Vân Royal</td>\n",
       "      <td>9.8</td>\n",
       "      <td>Sao mà bánh mì ngooooon thế tarrrr</td>\n",
       "      <td>https://www.foody.vn/ha-noi/bami-beef-banh-mi-...</td>\n",
       "    </tr>\n",
       "    <tr>\n",
       "      <th>5</th>\n",
       "      <td>16080</td>\n",
       "      <td>Vũ Thanh Tú</td>\n",
       "      <td>6.8</td>\n",
       "      <td>Sao mình thấy ngon mà nhỉ</td>\n",
       "      <td>https://www.foody.vn/ha-noi/banh-bao-chien-ngu...</td>\n",
       "    </tr>\n",
       "    <tr>\n",
       "      <th>6</th>\n",
       "      <td>6743</td>\n",
       "      <td>Lã  Thúy</td>\n",
       "      <td>9.8</td>\n",
       "      <td>Quán làm ngon bảo sao đông thật đấy</td>\n",
       "      <td>https://www.foody.vn/ha-noi/bun-cha-nem-hai-sa...</td>\n",
       "    </tr>\n",
       "    <tr>\n",
       "      <th>7</th>\n",
       "      <td>18864</td>\n",
       "      <td>nguyễn giáng my</td>\n",
       "      <td>10.0</td>\n",
       "      <td>Sao mà bún thái ngooooon thế tarrrr</td>\n",
       "      <td>https://www.foody.vn/ha-noi/bao-quan-my-thai-b...</td>\n",
       "    </tr>\n",
       "    <tr>\n",
       "      <th>8</th>\n",
       "      <td>4716</td>\n",
       "      <td>Hải Yến</td>\n",
       "      <td>1.0</td>\n",
       "      <td>ây là bánh tráng trộn sao</td>\n",
       "      <td>https://www.foody.vn/ha-noi/huong-banh-xeo-nem...</td>\n",
       "    </tr>\n",
       "    <tr>\n",
       "      <th>9</th>\n",
       "      <td>10052</td>\n",
       "      <td>Ngọc Ánh</td>\n",
       "      <td>1.0</td>\n",
       "      <td>Quá dở Ko hiểu sao vẫn bán đc hàng</td>\n",
       "      <td>https://www.foody.vn/ha-noi/co-huong-bun-cha-c...</td>\n",
       "    </tr>\n",
       "    <tr>\n",
       "      <th>10</th>\n",
       "      <td>149</td>\n",
       "      <td>An Như  Thủy</td>\n",
       "      <td>10.0</td>\n",
       "      <td>Quán làm ngon bảo sao đông thật đấy</td>\n",
       "      <td>https://www.foody.vn/ha-noi/k-town-do-an-han-q...</td>\n",
       "    </tr>\n",
       "    <tr>\n",
       "      <th>11</th>\n",
       "      <td>10213</td>\n",
       "      <td>Nhung Phan  Thị</td>\n",
       "      <td>9.6</td>\n",
       "      <td>Quán làm ngon bảo sao đông thật đấy</td>\n",
       "      <td>https://www.foody.vn/ha-noi/bun-cha-hung-trang...</td>\n",
       "    </tr>\n",
       "    <tr>\n",
       "      <th>12</th>\n",
       "      <td>13217</td>\n",
       "      <td>Thành Xuân</td>\n",
       "      <td>9.2</td>\n",
       "      <td>Sao mà bánh mì ngooooon thế tarr</td>\n",
       "      <td>https://www.foody.vn/ha-noi/tiem-banh-hottrend...</td>\n",
       "    </tr>\n",
       "    <tr>\n",
       "      <th>13</th>\n",
       "      <td>20331</td>\n",
       "      <td>Đạt Đạt</td>\n",
       "      <td>9.6</td>\n",
       "      <td>Thịt ngon phục vụ như khách sạn 5 sao</td>\n",
       "      <td>https://www.foody.vn/ha-noi/sumo-bbq-tttm-savi...</td>\n",
       "    </tr>\n",
       "    <tr>\n",
       "      <th>14</th>\n",
       "      <td>567</td>\n",
       "      <td>Biabia Kitchen</td>\n",
       "      <td>8.2</td>\n",
       "      <td>Lên cơn thèm thì phải làm sao</td>\n",
       "      <td>https://www.foody.vn/ha-noi/the-alley-tra-sua-...</td>\n",
       "    </tr>\n",
       "    <tr>\n",
       "      <th>15</th>\n",
       "      <td>2264</td>\n",
       "      <td>Ga Way</td>\n",
       "      <td>1.0</td>\n",
       "      <td>Ghét thì 1 sao thôi</td>\n",
       "      <td>https://www.foody.vn/ha-noi/the-alley-tra-sua-...</td>\n",
       "    </tr>\n",
       "    <tr>\n",
       "      <th>16</th>\n",
       "      <td>11834</td>\n",
       "      <td>Quỳnh Châu</td>\n",
       "      <td>6.2</td>\n",
       "      <td>ã biết tại sao Le Festin hot 3</td>\n",
       "      <td>https://www.foody.vn/ha-noi/le-festin-coffee-c...</td>\n",
       "    </tr>\n",
       "  </tbody>\n",
       "</table>\n",
       "</div>"
      ],
      "text/plain": [
       "    user_id   Tên người dùng  Điểm đánh giá  \\\n",
       "0      4063         Hà  Châu            9.2   \n",
       "1      5647     Lady  Nguyễn            9.8   \n",
       "2      6853   Lê Mai  Chuyên            9.2   \n",
       "3     18096       ivl5aa89yz            6.0   \n",
       "4     15903        Vân Royal            9.8   \n",
       "5     16080      Vũ Thanh Tú            6.8   \n",
       "6      6743         Lã  Thúy            9.8   \n",
       "7     18864  nguyễn giáng my           10.0   \n",
       "8      4716          Hải Yến            1.0   \n",
       "9     10052         Ngọc Ánh            1.0   \n",
       "10      149     An Như  Thủy           10.0   \n",
       "11    10213  Nhung Phan  Thị            9.6   \n",
       "12    13217       Thành Xuân            9.2   \n",
       "13    20331          Đạt Đạt            9.6   \n",
       "14      567   Biabia Kitchen            8.2   \n",
       "15     2264           Ga Way            1.0   \n",
       "16    11834       Quỳnh Châu            6.2   \n",
       "\n",
       "                       Nội dung bình luận  \\\n",
       "0     Quán làm ngon bảo sao đông thật đấy   \n",
       "1             Ngon béo không bị khô 5 sao   \n",
       "2     Quán làm ngon bảo sao đông thật đấy   \n",
       "3                                 5 sao ạ   \n",
       "4      Sao mà bánh mì ngooooon thế tarrrr   \n",
       "5              Sao mình thấy ngon mà nhỉ    \n",
       "6     Quán làm ngon bảo sao đông thật đấy   \n",
       "7     Sao mà bún thái ngooooon thế tarrrr   \n",
       "8               ây là bánh tráng trộn sao   \n",
       "9      Quá dở Ko hiểu sao vẫn bán đc hàng   \n",
       "10    Quán làm ngon bảo sao đông thật đấy   \n",
       "11    Quán làm ngon bảo sao đông thật đấy   \n",
       "12       Sao mà bánh mì ngooooon thế tarr   \n",
       "13  Thịt ngon phục vụ như khách sạn 5 sao   \n",
       "14         Lên cơn thèm thì phải làm sao    \n",
       "15                    Ghét thì 1 sao thôi   \n",
       "16         ã biết tại sao Le Festin hot 3   \n",
       "\n",
       "                                            Link quán  \n",
       "0   https://www.foody.vn/ha-noi/bun-cha-ba-mau-hoa...  \n",
       "1   https://www.foody.vn/ha-noi/vit-quay-tai-vinh-...  \n",
       "2   https://www.foody.vn/ha-noi/bun-cha-que-tre-ph...  \n",
       "3   https://www.foody.vn/ha-noi/le-jardin-restaura...  \n",
       "4   https://www.foody.vn/ha-noi/bami-beef-banh-mi-...  \n",
       "5   https://www.foody.vn/ha-noi/banh-bao-chien-ngu...  \n",
       "6   https://www.foody.vn/ha-noi/bun-cha-nem-hai-sa...  \n",
       "7   https://www.foody.vn/ha-noi/bao-quan-my-thai-b...  \n",
       "8   https://www.foody.vn/ha-noi/huong-banh-xeo-nem...  \n",
       "9   https://www.foody.vn/ha-noi/co-huong-bun-cha-c...  \n",
       "10  https://www.foody.vn/ha-noi/k-town-do-an-han-q...  \n",
       "11  https://www.foody.vn/ha-noi/bun-cha-hung-trang...  \n",
       "12  https://www.foody.vn/ha-noi/tiem-banh-hottrend...  \n",
       "13  https://www.foody.vn/ha-noi/sumo-bbq-tttm-savi...  \n",
       "14  https://www.foody.vn/ha-noi/the-alley-tra-sua-...  \n",
       "15  https://www.foody.vn/ha-noi/the-alley-tra-sua-...  \n",
       "16  https://www.foody.vn/ha-noi/le-festin-coffee-c...  "
      ]
     },
     "execution_count": 68,
     "metadata": {},
     "output_type": "execute_result"
    }
   ],
   "source": [
    "short_star_comments = filter_short_comments_with_sao(df_clean_final)\n",
    "short_star_comments"
   ]
  },
  {
   "cell_type": "markdown",
   "metadata": {},
   "source": [
    "### Kiểm tra phân bố dữ liệu"
   ]
  },
  {
   "cell_type": "code",
   "execution_count": 71,
   "metadata": {},
   "outputs": [
    {
     "data": {
      "image/png": "[encoded data removed]",
      "text/plain": [
       "<Figure size 1000x600 with 1 Axes>"
      ]
     },
     "metadata": {},
     "output_type": "display_data"
    }
   ],
   "source": [
    "# Vẽ biểu đồ\n",
    "plt.figure(figsize=(10, 6))\n",
    "plt.hist(df_clean_final[\"Điểm đánh giá\"], bins=20, color='blue', alpha=0.7, edgecolor='black')\n",
    "plt.title(\"Phân bố Điểm đánh giá\")\n",
    "plt.xlabel(\"Điểm đánh giá\")\n",
    "plt.ylabel(\"Tần số\")\n",
    "plt.grid(axis='y', alpha=0.75)\n",
    "\n",
    "# Hiển thị biểu đồ\n",
    "plt.show()\n",
    "\n"
   ]
  },
  {
   "cell_type": "markdown",
   "metadata": {},
   "source": [
    "- Phân tích phân bố điểm đánh giá người dùng:\n",
    "\n",
    "  - Phân bố điểm đánh giá lệch trái rõ rệt (left-skewed).\n",
    "  - Phần lớn người dùng đánh giá ở mức cao (7–10), đặc biệt điểm 10 chiếm tần suất áp đảo.\n",
    "\n",
    "- Nhận xét chính:\n",
    "\n",
    "  - Điểm thấp (1–4) rất hiếm, cho thấy:\n",
    "    - Người dùng có xu hướng chỉ đánh giá khi hài lòng.\n",
    "    - Phản ánh thiên hướng đánh giá tích cực phổ biến.\n",
    "  - Điểm 5 và 6 có tần suất nhô lên ở một vài mốc bất thường:\n",
    "    - Có thể là giá trị mặc định trong hệ thống.\n",
    "    - Hoặc do một nhóm người dùng cụ thể tạo ra.\n",
    "  - Các điểm thấp xuất hiện lác đác có thể là spam, lỗi nhập liệu, hoặc khác biệt trong định dạng dữ liệu.\n"
   ]
  },
  {
   "cell_type": "code",
   "execution_count": 72,
   "metadata": {},
   "outputs": [],
   "source": [
    "df_clean_final.to_csv(\"User đánh giá quán ăn.csv\", index=False, encoding='utf-8-sig')\n"
   ]
  },
  {
   "cell_type": "code",
   "execution_count": null,
   "metadata": {},
   "outputs": [],
   "source": []
  }
 ],
 "metadata": {
  "kernelspec": {
   "display_name": "myven",
   "language": "python",
   "name": "python3"
  },
  "language_info": {
   "codemirror_mode": {
    "name": "ipython",
    "version": 3
   },
   "file_extension": ".py",
   "mimetype": "text/x-python",
   "name": "python",
   "nbconvert_exporter": "python",
   "pygments_lexer": "ipython3",
   "version": "3.11.9"
  }
 },
 "nbformat": 4,
 "nbformat_minor": 2
}
